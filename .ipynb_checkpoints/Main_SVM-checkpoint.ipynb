{
 "cells": [
  {
   "cell_type": "code",
   "execution_count": 5,
   "metadata": {
    "collapsed": false,
    "scrolled": true
   },
   "outputs": [
    {
     "name": "stderr",
     "output_type": "stream",
     "text": [
      "C:\\local\\Anaconda3-4.1.1-Windows-x86_64\\envs\\cntk-py35\\lib\\site-packages\\sklearn\\feature_extraction\\text.py:1059: FutureWarning: Conversion of the second argument of issubdtype from `float` to `np.floating` is deprecated. In future, it will be treated as `np.float64 == np.dtype(float).type`.\n",
      "  if hasattr(X, 'dtype') and np.issubdtype(X.dtype, np.float):\n"
     ]
    },
    {
     "name": "stdout",
     "output_type": "stream",
     "text": [
      "Model Training Finished.\n",
      "0.7706339567646344\n",
      "Recall:\n",
      "evergreen\t\t0.05844885724990633\n",
      "construction\t\t0.22052238805970148\n",
      "arts\t\t0.5377380672466494\n",
      "manufacture\t\t0.5062458908612755\n",
      "transportation\t\t0.7467564870259481\n",
      "government\t\t0.4298338635560269\n",
      "healthcare&biotechnology\t\t0.7134206869168156\n",
      "airline\t\t0.8071270771299587\n",
      "entertainment\t\t0.6642329104681939\n",
      "non-profit&civilorganization\t\t0.67519649058673\n",
      "automotiveindustry\t\t0.8255021190344574\n",
      "videogame\t\t0.8377697841726619\n",
      "food\t\t0.7079199303742385\n",
      "media\t\t0.19209503476213938\n",
      "education\t\t0.851152052019036\n",
      "informationtechnology\t\t0.7477937422507476\n",
      "finance\t\t0.9009039282233946\n",
      "retail\t\t0.8063550669911331\n",
      "sports\t\t0.9660291767616888\n",
      "\n",
      "Precision:\n",
      "evergreen\t\t0.7289719626168224\n",
      "construction\t\t0.8359264497878359\n",
      "arts\t\t0.6284693597142073\n",
      "manufacture\t\t0.8586562587120156\n",
      "transportation\t\t0.8783565663976522\n",
      "government\t\t0.6813597310422115\n",
      "healthcare&biotechnology\t\t0.7683344023946974\n",
      "airline\t\t0.8237427703166357\n",
      "entertainment\t\t0.7582039795812063\n",
      "non-profit&civilorganization\t\t0.8041798193098945\n",
      "automotiveindustry\t\t0.8346530041918957\n",
      "videogame\t\t0.7939772727272727\n",
      "food\t\t0.8205110961667788\n",
      "media\t\t0.8053706678907505\n",
      "education\t\t0.7457990999545848\n",
      "informationtechnology\t\t0.7464870768110666\n",
      "finance\t\t0.7327138562448756\n",
      "retail\t\t0.7963975910271286\n",
      "sports\t\t0.7597656645922443\n",
      "\n",
      "F-Score:\n",
      "evergreen\t\t0.10822060353798127\n",
      "construction\t\t0.3489813994685562\n",
      "arts\t\t0.5795742524075013\n",
      "manufacture\t\t0.6369558473787613\n",
      "transportation\t\t0.8072281032971479\n",
      "government\t\t0.5271295426631024\n",
      "healthcare&biotechnology\t\t0.7398599958822318\n",
      "airline\t\t0.8153502813894817\n",
      "entertainment\t\t0.7081144191476941\n",
      "non-profit&civilorganization\t\t0.7340652789507676\n",
      "automotiveindustry\t\t0.8300523414701931\n",
      "videogame\t\t0.8152858809801634\n",
      "food\t\t0.7600685251518455\n",
      "media\t\t0.3102015558698727\n",
      "education\t\t0.7950004401021037\n",
      "informationtechnology\t\t0.7471398382277927\n",
      "finance\t\t0.8081508387466276\n",
      "retail\t\t0.8013453974342938\n",
      "sports\t\t0.8505713215854033\n",
      "0.7790461383936723 0.6418443975626685 0.7706339567646344\n"
     ]
    }
   ],
   "source": [
    "from svm import *\n",
    "\n",
    "suffix = \"170days_again\"\n",
    "prefix_ori = \"C:\\\\Users\\\\t-haohu\\\\Documents\\\\Python\\\\news\\\\Data\"\n",
    "prefix = \"C:\\\\Users\\\\t-haohu\\\\Documents\\\\Python\\\\IndustryClassifier\\\\Data\"\n",
    "\n",
    "data_train = \"{}\\\\middle\\\\train_{}.txt\".format(prefix,suffix)\n",
    "data_test = \"{}\\\\middle\\\\test_{}.txt\".format(prefix,suffix)\n",
    "data_industry = \"{}\\\\ready\\\\industry_{}.wl\".format(prefix,suffix)\n",
    "\n",
    "text_clf_svm = Pipeline([('vect', CountVectorizer(stop_words='english',ngram_range=(1,2))),\n",
    "                      ('tfidf', TfidfTransformer()),\n",
    "                    #('svc',SVC(C=1000000,kernel='linear',probability=True,tol=1e-2))\n",
    "                      ('clf-svm', SGDClassifier(loss='hinge', penalty='elasticnet',\n",
    "                                            alpha=1e-6, n_iter=20, random_state=40)),\n",
    " ])\n",
    "title,label = load_data(data_train,data_industry)\n",
    "test_title,test_label = load_data(data_test,data_industry)\n",
    "train(text_clf_svm,title,label)\n",
    "test(text_clf_svm,test_title,test_label)"
   ]
  },
  {
   "cell_type": "code",
   "execution_count": null,
   "metadata": {
    "collapsed": false
   },
   "outputs": [],
   "source": [
    "from sklearn.externals import joblib\n",
    "text_clf_svm=joblib.load('svm_170_88.pkl')\n",
    "industry =[x.rstrip(\"\\n\") for x in open(data_industry = \"{}\\\\ready\\\\industry_{}.wl\".format(prefix,suffix)).readlines()]\n",
    "val_doc = [\n",
    "    \"Petr Cech calls Bayer Leverkusen 'sad' after Tweet\",\n",
    "    \"Exclusive: Alibaba merging China food delivery units to counter Tencent-backed Meituan - sources\",\n",
    "    \"Softbank-Alibaba vs Google-Tencent: Examining the head-on clash\",\n",
    "    \"Tencent-backed Weimob files for Hong Kong IPO as marketing solutions provider joins rush to go public\"\n",
    "\n",
    "]\n",
    "process_setting(low =True,old = True,stop = True)\n",
    "val_doc = [tokenize(val_doc) for x in val_doc]\n",
    "\n",
    "print([indsutry[x] for x in test_clf_svm.predict(val_doc)])\n",
    "\n"
   ]
  },
  {
   "cell_type": "code",
   "execution_count": null,
   "metadata": {
    "collapsed": true
   },
   "outputs": [],
   "source": []
  }
 ],
 "metadata": {
  "anaconda-cloud": {},
  "kernelspec": {
   "display_name": "Python [cntk-py35]",
   "language": "python",
   "name": "Python [cntk-py35]"
  },
  "language_info": {
   "codemirror_mode": {
    "name": "ipython",
    "version": 3
   },
   "file_extension": ".py",
   "mimetype": "text/x-python",
   "name": "python",
   "nbconvert_exporter": "python",
   "pygments_lexer": "ipython3",
   "version": "3.5.2"
  }
 },
 "nbformat": 4,
 "nbformat_minor": 0
}
