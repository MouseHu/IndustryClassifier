{
 "cells": [
  {
   "cell_type": "code",
   "execution_count": 3,
   "metadata": {
    "scrolled": true
   },
   "outputs": [
    {
     "name": "stderr",
     "output_type": "stream",
     "text": [
      "C:\\Users\\t-haohu\\Documents\\Python\\IndustryClassifier\\svm.py:42: RuntimeWarning: invalid value encountered in true_divide\n",
      "  precision=np.diag(confuse)/np.sum(confuse,axis=1)\n",
      "C:\\Users\\t-haohu\\Documents\\Python\\IndustryClassifier\\svm.py:56: RuntimeWarning: divide by zero encountered in double_scalars\n",
      "  print(\"\\n\".join([category[i]+\"\\t\\t\"+str(2/(1/precision[i]+1/recall[i])) for i in range(num_labels)]))\n",
      "C:\\Users\\t-haohu\\Documents\\Python\\IndustryClassifier\\svm.py:68: RuntimeWarning: invalid value encountered in true_divide\n",
      "  precision_th=np.diag(confuse)/np.sum(confuse,axis=1)\n",
      "C:\\Users\\t-haohu\\Documents\\Python\\IndustryClassifier\\svm.py:69: RuntimeWarning: invalid value encountered in true_divide\n",
      "  recall_th = np.diag(confuse)/np.sum(confuse,axis=0)\n"
     ]
    },
    {
     "name": "stdout",
     "output_type": "stream",
     "text": [
      "Recall:\n",
      "construction\t\t0.2886969042476602\n",
      "evergreen\t\t0.0\n",
      "arts\t\t0.29510921177587845\n",
      "manufacture\t\t0.9301561216105176\n",
      "transportation\t\t0.8781085154483798\n",
      "government\t\t0.063914202467299\n",
      "healthcare&biotechnology\t\t0.4824112567956508\n",
      "airline\t\t0.8616866732930653\n",
      "automotiveindustry\t\t0.8589964521033958\n",
      "non-profit&civilorganization\t\t0.27750247770069375\n",
      "entertainment\t\t0.49115998275118583\n",
      "videogame\t\t0.8513751904418251\n",
      "food\t\t0.7620599739243807\n",
      "media\t\t0.39775280898876403\n",
      "education\t\t0.5942028985507246\n",
      "informationtechnology\t\t0.9432773109243697\n",
      "finance\t\t0.9934364390795926\n",
      "retail\t\t0.9861088527027341\n",
      "sports\t\t0.8605037214428585\n",
      "\n",
      "Precision:\n",
      "construction\t\t0.6499189627228525\n",
      "evergreen\t\tnan\n",
      "arts\t\t0.6967488789237668\n",
      "manufacture\t\t0.8581174984207202\n",
      "transportation\t\t0.9099072718399219\n",
      "government\t\t0.698509485094851\n",
      "healthcare&biotechnology\t\t0.7478929102627665\n",
      "airline\t\t0.9304053496243705\n",
      "automotiveindustry\t\t0.8797757475083057\n",
      "non-profit&civilorganization\t\t0.07227671657201859\n",
      "entertainment\t\t0.7287268074216251\n",
      "videogame\t\t0.8905430907947158\n",
      "food\t\t0.6489036913683042\n",
      "media\t\t0.0595919466702579\n",
      "education\t\t0.48019591141396933\n",
      "informationtechnology\t\t0.6835189488021793\n",
      "finance\t\t0.8977569711156057\n",
      "retail\t\t0.8954962556692332\n",
      "sports\t\t0.9597820643183439\n",
      "\n",
      "F-Score:\n",
      "construction\t\t0.39980059820538383\n",
      "evergreen\t\tnan\n",
      "arts\t\t0.4146097398265511\n",
      "manufacture\t\t0.892685811920878\n",
      "transportation\t\t0.8937251330233451\n",
      "government\t\t0.11711251206906344\n",
      "healthcare&biotechnology\t\t0.5865085536547434\n",
      "airline\t\t0.8947284852334073\n",
      "automotiveindustry\t\t0.8692619377340104\n",
      "non-profit&civilorganization\t\t0.11468359614990785\n",
      "entertainment\t\t0.5868109222050489\n",
      "videogame\t\t0.8705187857421035\n",
      "food\t\t0.7009443861490032\n",
      "media\t\t0.10365425158116655\n",
      "education\t\t0.5311506300789071\n",
      "informationtechnology\t\t0.7926596980255518\n",
      "finance\t\t0.9431763919396426\n",
      "retail\t\t0.9386207354014194\n",
      "sports\t\t0.9074355736669919\n",
      "0.7048926949191004 0.6219188944341567 0.8047177506305022\n"
     ]
    },
    {
     "name": "stderr",
     "output_type": "stream",
     "text": [
      "C:\\Users\\t-haohu\\Documents\\Python\\IndustryClassifier\\svm.py:70: RuntimeWarning: Mean of empty slice\n",
      "  precision.append(np.nanmean(precision_th[:-1]))\n"
     ]
    },
    {
     "data": {
      "image/png": "[encoded data removed]",
      "text/plain": [
       "<matplotlib.figure.Figure at 0x2110fb57080>"
      ]
     },
     "metadata": {},
     "output_type": "display_data"
    },
    {
     "data": {
      "image/png": "[encoded data removed]",
      "text/plain": [
       "<matplotlib.figure.Figure at 0x2110f780940>"
      ]
     },
     "metadata": {},
     "output_type": "display_data"
    }
   ],
   "source": [
    "#from import *\n",
    "from svm import *\n",
    "import svm\n",
    "suffix = \"180days_all\"\n",
    "prefix = \"C:\\\\Users\\\\t-haohu\\\\Documents\\\\Python\\\\IndustryClassifier\\\\Data\"\n",
    "industry_file = open(\"{}\\\\ready\\\\industry_{}.wl\".format(prefix,suffix),encoding = \"utf-8\").readlines()\n",
    "industry ={x.strip(\"\\n\"):i for i,x in enumerate(industry_file)}\n",
    "svm.category = [x.strip(\"\\n\") for i,x in enumerate(industry_file)]\n",
    "#print(len(category))\n",
    "def val(predict,gt,prob):\n",
    "    predict = [int(industry.get(p,19)) for p in predict]\n",
    "    gt = [int(industry.get(g,19)) for g in gt]\n",
    "    #fast_hist(predict,gt,20)\n",
    "    #print(predict,gt)\n",
    "    evaluate(predict,gt,num_labels = 19)\n",
    "    pr_plot(np.array(predict),np.array(gt),prob,num_labels=19,min_th=0,max_th = 0.999)\n",
    "suffix = \"180days_all\"\n",
    "gt = [x.strip(\"\\n\").split(\"\\t\")[-1].lower().replace(\" \",\"\")  for x in open(\"{}\\\\middle\\\\test_{}.txt\".format(prefix,suffix),encoding=\"utf-8\").readlines()]\n",
    "prefix =\"D:\\CNNVal\"\n",
    "predict =[x.strip(\"\\n\").lower().replace(\" \",\"\")  for x in open(\"{}\\\\result_test_{}.txt\".format(prefix,suffix),encoding=\"utf-8\").readlines()]\n",
    "prob = [float(x.strip(\"\\n\"))  for x in open(\"{}\\\\result_test_{}_predict.txt\".format(prefix,suffix),encoding=\"utf-8\").readlines()]\n",
    "val(predict,gt,prob)"
   ]
  },
  {
   "cell_type": "code",
   "execution_count": 133,
   "metadata": {
    "scrolled": true
   },
   "outputs": [
    {
     "name": "stderr",
     "output_type": "stream",
     "text": [
      "C:\\Users\\t-haohu\\Documents\\Python\\IndustryClassifier\\svm.py:43: RuntimeWarning: invalid value encountered in true_divide\n",
      "  precision=np.diag(confuse)/np.sum(confuse,axis=1)\n",
      "C:\\Users\\t-haohu\\Documents\\Python\\IndustryClassifier\\svm.py:49: RuntimeWarning: invalid value encountered in true_divide\n",
      "  precision=np.diag(confuse)[:-1]/np.sum(confuse,axis=1)[:-1]\n",
      "C:\\Users\\t-haohu\\Documents\\Python\\IndustryClassifier\\svm.py:67: RuntimeWarning: divide by zero encountered in double_scalars\n",
      "  print(\"\\n\".join([category[i]+\"\\t\\t\"+str(2/(1/precision[i]+1/recall[i])) for i in range(num_labels)]))\n",
      "C:\\Users\\t-haohu\\Documents\\Python\\IndustryClassifier\\svm.py:79: RuntimeWarning: invalid value encountered in true_divide\n",
      "  precision_th=np.diag(confuse)/np.sum(confuse,axis=1)\n",
      "C:\\Users\\t-haohu\\Documents\\Python\\IndustryClassifier\\svm.py:81: RuntimeWarning: Mean of empty slice\n",
      "  precision.append(np.nanmean(precision_th[:-1]))\n"
     ]
    },
    {
     "name": "stdout",
     "output_type": "stream",
     "text": [
      "overall precision: 0.4307973098826511 recall:0.33981552577287605  acc:0.20498614958448755\n",
      "valid precision: 0.4307973098826511 recall:0.3577005534451327  acc:0.2971887550200803\n",
      "Recall:\n",
      "evergreen\t\t0.0\n",
      "construction\t\t0.4\n",
      "arts\t\t0.4166666666666667\n",
      "government\t\t0.034482758620689655\n",
      "manufacture\t\t0.2\n",
      "transportation\t\t0.08333333333333333\n",
      "airline\t\t0.4444444444444444\n",
      "automotiveindustry\t\t0.25\n",
      "healthcare&biotechnology\t\t0.4\n",
      "entertainment\t\t0.6206896551724138\n",
      "videogame\t\t0.0\n",
      "non-profit&civilorganization\t\t0.0\n",
      "food\t\t0.2222222222222222\n",
      "informationtechnology\t\t0.7777777777777778\n",
      "media\t\t1.0\n",
      "finance\t\t0.42105263157894735\n",
      "education\t\t0.6666666666666666\n",
      "retail\t\t0.6666666666666666\n",
      "sports\t\t0.19230769230769232\n",
      "\n",
      "Precision:\n",
      "evergreen\t\tnan\n",
      "construction\t\t0.8\n",
      "arts\t\t0.3333333333333333\n",
      "government\t\t0.125\n",
      "manufacture\t\t1.0\n",
      "transportation\t\t1.0\n",
      "airline\t\t0.6666666666666666\n",
      "automotiveindustry\t\t0.2857142857142857\n",
      "healthcare&biotechnology\t\t0.5454545454545454\n",
      "entertainment\t\t0.47368421052631576\n",
      "videogame\t\tnan\n",
      "non-profit&civilorganization\t\t0.0\n",
      "food\t\t0.5\n",
      "informationtechnology\t\t0.1346153846153846\n",
      "media\t\t0.008695652173913044\n",
      "finance\t\t0.34782608695652173\n",
      "education\t\t0.11538461538461539\n",
      "retail\t\t0.15384615384615385\n",
      "sports\t\t0.8333333333333334\n",
      "\n",
      "F-Score:\n",
      "evergreen\t\tnan\n",
      "construction\t\t0.5333333333333333\n",
      "arts\t\t0.37037037037037035\n",
      "government\t\t0.05405405405405406\n",
      "manufacture\t\t0.3333333333333333\n",
      "transportation\t\t0.15384615384615385\n",
      "airline\t\t0.5333333333333333\n",
      "automotiveindustry\t\t0.26666666666666666\n",
      "healthcare&biotechnology\t\t0.46153846153846145\n",
      "entertainment\t\t0.5373134328358209\n",
      "videogame\t\tnan\n",
      "non-profit&civilorganization\t\t0.0\n",
      "food\t\t0.3076923076923077\n",
      "informationtechnology\t\t0.22950819672131145\n",
      "media\t\t0.017241379310344827\n",
      "finance\t\t0.38095238095238093\n",
      "education\t\t0.19672131147540986\n",
      "retail\t\t0.25\n",
      "sports\t\t0.3125\n"
     ]
    },
    {
     "data": {
      "image/png": "[encoded data removed]",
      "text/plain": [
       "<matplotlib.figure.Figure at 0x2494e4d7dd8>"
      ]
     },
     "metadata": {},
     "output_type": "display_data"
    },
    {
     "data": {
      "image/png": "[encoded data removed]",
      "text/plain": [
       "<matplotlib.figure.Figure at 0x2494e5dbc18>"
      ]
     },
     "metadata": {},
     "output_type": "display_data"
    },
    {
     "name": "stdout",
     "output_type": "stream",
     "text": [
      "30\n",
      "[(0.0, 0.4307973098826511, 0.3577005534451327), (0.034448275862068965, 0.4307973098826511, 0.3577005534451327), (0.06889655172413793, 0.4307973098826511, 0.3577005534451327), (0.10334482758620689, 0.4307973098826511, 0.3577005534451327), (0.13779310344827586, 0.4307973098826511, 0.3577005534451327), (0.17224137931034483, 0.43189145018395253, 0.3577005534451327), (0.20668965517241378, 0.43402083944136943, 0.3577005534451327), (0.24113793103448275, 0.44991175081686824, 0.35493047034263964), (0.2755862068965517, 0.4560355561784739, 0.35493047034263964), (0.31003448275862067, 0.46102613509734247, 0.3490825171262653), (0.34448275862068967, 0.4735271419222374, 0.3472676350935975), (0.3789310344827586, 0.4785850134687576, 0.33939539037924754), (0.41337931034482756, 0.487230561309259, 0.3305024684191749), (0.44782758620689656, 0.4908226155183558, 0.32773238531668186), (0.4822758620689655, 0.5055180658121835, 0.3028862788223759), (0.5167241379310344, 0.5022365869424692, 0.28315713139239745), (0.5511724137931034, 0.49580932222964147, 0.2626892951350875), (0.5856206896551724, 0.4875859434682963, 0.2515176879562208), (0.6200689655172413, 0.5001234060057589, 0.2515176879562208), (0.6545172413793103, 0.5012275498434668, 0.23841020660917503), (0.6889655172413793, 0.499874686716792, 0.22588752058376668), (0.7234137931034482, 0.5110546251993621, 0.20725977305402274), (0.7578620689655172, 0.44865079365079363, 0.1890101259477513), (0.7923103448275862, 0.4447326649958229, 0.17836779813090828), (0.8267586206896551, 0.44255835667600374, 0.1686806713838904), (0.8612068965517241, 0.4992250233426704, 0.163357017421398), (0.8956551724137931, 0.49333333333333335, 0.158772052286237), (0.9301034482758621, 0.5321428571428571, 0.10432559130620071), (0.964551724137931, 0.47294372294372294, 0.0723157421218363), (0.999, nan, 0.0)]\n"
     ]
    }
   ],
   "source": [
    "from svm import *\n",
    "import svm\n",
    "import numpy as np\n",
    "import matplotlib.pyplot as plt\n",
    "import copy\n",
    "suffix = \"180days_all\"\n",
    "prefix = \"C:\\\\Users\\\\t-haohu\\\\Documents\\\\Python\\\\IndustryClassifier\\\\Data\"\n",
    "industry_file = open(\"{}\\\\ready\\\\industry_{}.wl\".format(prefix,suffix),encoding = \"utf-8\").readlines()\n",
    "industry ={x.strip(\"\\n\"):i for i,x in enumerate(industry_file)}\n",
    "svm.category = [x.strip(\"\\n\") for i,x in enumerate(industry_file)]\n",
    "category = [x.strip(\"\\n\") for i,x in enumerate(industry_file)]\n",
    "\n",
    "def pre_cov(predict,gt,prob,num_labels):\n",
    "    predict = [int(industry.get(p,num_labels)) for p in predict]\n",
    "    gt = [int(industry.get(g,num_labels)) for g in gt]\n",
    "    predict = np.array(predict)\n",
    "    gt = np.array(gt)\n",
    "    #print(gt[0])\n",
    "    prob = np.array(prob)\n",
    "    ths = np.linspace(0.8,1,20)\n",
    "    total = len(np.where(gt<num_labels)[0])\n",
    "    precision = []\n",
    "    coverage1 = []\n",
    "    coverage2 = []\n",
    "    accuarcy = []\n",
    "    for th in ths:\n",
    "        predict_copy = copy.copy(predict)\n",
    "        predict_copy[prob<th]=num_labels\n",
    "        confuse = fast_hist(predict_copy,gt,num_labels+1)\n",
    "        cov1 = confuse[:-1,:-1].sum()/confuse[:,:-1].sum()\n",
    "        cov2 = confuse[:-1,:].sum()/confuse.sum()\n",
    "        pre = np.nanmean((np.diag(confuse)/np.sum(confuse,axis=1))[:-1])\n",
    "        precision.append(pre)\n",
    "        coverage1.append(cov1)\n",
    "        coverage2.append(cov2)\n",
    "    plt.plot(precision,coverage1,'b')\n",
    "    #plt.plot(precision,coverage2,'r')\n",
    "    plt.ylabel('coverage')\n",
    "    plt.xlabel('precision')\n",
    "    plt.show()\n",
    "    print(list(zip(ths,precision,coverage1,coverage2)))\n",
    "    \n",
    "def pre_cov_per_ind(predict,gt,prob,th,num_labels):\n",
    "    predict = [int(industry.get(p,num_labels)) for p in predict]\n",
    "    gt = [int(industry.get(g,num_labels)) for g in gt]\n",
    "    predict = np.array(predict)\n",
    "    gt = np.array(gt)\n",
    "    prob=np.array(prob)\n",
    "    predict_copy = copy.copy(predict)\n",
    "    predict_copy[prob<th]=num_labels\n",
    "    confuse = fast_hist(predict_copy,gt,num_labels+1)\n",
    "    precision=(np.diag(confuse)/np.sum(confuse,axis=1))[:-1]\n",
    "    recall = np.diag(confuse)[:-1]/np.sum(confuse,axis=0)[:-1]\n",
    "    accuarcy1 = np.diag(confuse)[:-1].sum() / confuse[:-1,:-1].sum()   \n",
    "    accuarcy2 = np.diag(confuse)[:-1].sum() / confuse[:-1,:].sum()   \n",
    "    \n",
    "    aver_precision=np.nanmean(precision)\n",
    "    aver_recall = np.nanmean(recall)\n",
    "    cov_count = np.sum(confuse,axis=1)\n",
    "    cov = confuse[:-1,:-1].sum()/confuse[:,:-1].sum()\n",
    "    print(\"\\n\")\n",
    "    print(\"overall precision: {} cov:{}  acc1:{} acc2:{}\".format(aver_precision,cov,accuarcy1,accuarcy2))\n",
    "    print(\"Recall:\")\n",
    "    print(\"\\n\".join([category[i]+\"\\t\\t\"+str(recall[i]) for i in range(num_labels)]))\n",
    "    print(\"\\nPrecision:\")\n",
    "    print(\"\\n\".join([category[i]+\"\\t\\t\"+str(precision[i]) for i in range(num_labels)]))\n",
    "    print(\"\\nCov count:\")\n",
    "    print(\"\\n\".join([category[i]+\"\\t\\t\"+str(cov_count[i]) for i in range(num_labels)]))\n",
    "def val(predict,gt,prob):\n",
    "    predict = [int(industry.get(p,19)) for p in predict]\n",
    "    gt = [int(industry.get(g,19)) for g in gt]\n",
    "    #fast_hist(predict,gt,20)\n",
    "    #print(predict,gt)\n",
    "    evaluate(predict,gt,num_labels = 19,with_null = True)\n",
    "    \n",
    "    p,r= pr_plot(np.array(predict),np.array(gt),prob,num_labels=19,min_th=0,max_th = 0.999)\n",
    "    th = np.linspace(0,0.999,30)\n",
    "    \n",
    "    print(len(p))\n",
    "    print(list(zip(th,p,r)))\n",
    "    \n",
    "suffix = \"cnn_180days_all_shuffled_with_linkedin\"#cnn_180days_all_body_shuffled\"#svm_180days_all_shuffled \n",
    "gt = [x.strip(\"\\n\").split(\"\\t\")[0]  for x in open(\"{}\\\\val_result\\\\val\\\\{}.txt\".format(prefix,suffix),encoding=\"utf-8\").readlines()]\n",
    "predict =[x.strip(\"\\n\").split(\"\\t\")[1] for x in open(\"{}\\\\val_result\\\\val\\\\{}.txt\".format(prefix,suffix),encoding=\"utf-8\").readlines()]\n",
    "prob = [float(x.strip(\"\\n\").split(\"\\t\")[-1])  for x in open(\"{}\\\\val_result\\\\val\\\\{}.txt\".format(prefix,suffix),encoding=\"utf-8\").readlines()]\n",
    "val(predict,gt,prob)\n",
    "#pre_cov(predict,gt,prob,19)\n",
    "#pre_cov_per_ind(predict,gt,prob,0.99,19)"
   ]
  },
  {
   "cell_type": "code",
   "execution_count": null,
   "metadata": {
    "collapsed": true
   },
   "outputs": [],
   "source": []
  },
  {
   "cell_type": "code",
   "execution_count": 31,
   "metadata": {},
   "outputs": [
    {
     "data": {
      "text/plain": [
       "(array([3, 4], dtype=int64),)"
      ]
     },
     "execution_count": 31,
     "metadata": {},
     "output_type": "execute_result"
    }
   ],
   "source": [
    "a=np.arange(5)\n",
    "np.where(a>2)"
   ]
  },
  {
   "cell_type": "code",
   "execution_count": null,
   "metadata": {
    "collapsed": true
   },
   "outputs": [],
   "source": []
  }
 ],
 "metadata": {
  "anaconda-cloud": {},
  "kernelspec": {
   "display_name": "Python 3",
   "language": "python",
   "name": "python3"
  },
  "language_info": {
   "codemirror_mode": {
    "name": "ipython",
    "version": 3
   },
   "file_extension": ".py",
   "mimetype": "text/x-python",
   "name": "python",
   "nbconvert_exporter": "python",
   "pygments_lexer": "ipython3",
   "version": "3.5.5"
  }
 },
 "nbformat": 4,
 "nbformat_minor": 1
}
