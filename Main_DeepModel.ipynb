{
 "cells": [
  {
   "cell_type": "code",
   "execution_count": 1,
   "metadata": {},
   "outputs": [
    {
     "name": "stdout",
     "output_type": "stream",
     "text": [
      "cnn_body\n",
      "[Output('hidden', [#], [19]), Output('drop1', [#], [300 x 1 x 1]), Output('Splice125132_Output_0', [#], [300 x 1 x 1]), Output('pooling', [#], [50 x 1 x 1]), Output('Block76523_Output_0', [#], [50 x 29 x 1]), Output('Block36539_Output_0', [#], [30 x 300]), Output('Block36539_Output_1', [#], [30 x 1]), Output('embed_title', [#, 11], [300]), Output('pooling', [#], [50 x 1 x 1]), Output('Block74532_Output_0', [#], [50 x 30 x 1]), Output('pooling', [#], [50 x 1 x 1]), Output('Block78514_Output_0', [#], [50 x 28 x 1]), Output('pooling', [#], [50 x 1 x 1]), Output('Block86976_Output_0', [#], [50 x 99 x 1]), Output('Block64871_Output_0', [#], [100 x 300]), Output('Block64871_Output_1', [#], [100 x 1]), Output('embed_body', [#, 21], [300]), Output('pooling', [#], [50 x 1 x 1]), Output('Block80505_Output_0', [#], [50 x 100 x 1]), Output('pooling', [#], [50 x 1 x 1]), Output('Block93447_Output_0', [#], [50 x 98 x 1])]\n",
      "Training 25288519 parameters in 16 parameter tensors.\n",
      "Learning rate per minibatch: 4.096\n",
      "Finished Epoch[1 of 10]: [Training] loss = 260227.412683 * 42008, metric = 67.87% * 42008 3184.734s ( 13.2 samples/s);\n",
      "Precision:0.46108171166943185 Recall:0.6197863102202197 Acc:0.6257511684843089\n",
      "Finished Epoch[2 of 10]: [Training] loss = 433054.232381 * 42000, metric = 45.55% * 42000 4067.748s ( 10.3 samples/s);\n",
      "Precision:0.6434971319683735 Recall:0.7510705028589492 Acc:0.7713665702203427\n",
      "Learning rate per minibatch: 0.8192\n",
      "Finished Epoch[3 of 10]: [Training] loss = 358591.014025 * 41997, metric = 33.07% * 41997 4011.704s ( 10.5 samples/s);\n",
      "Precision:0.7674116799590133 Recall:0.8462024961340193 Acc:0.8592811039394613\n",
      "Finished Epoch[4 of 10]: [Training] loss = 222144.397667 * 42005, metric = 25.17% * 42005 4027.429s ( 10.4 samples/s);\n",
      "Precision:0.8478886840768595 Recall:0.8895111854801607 Acc:0.9049632762074338\n",
      "Finished Epoch[5 of 10]: [Training] loss = 142027.666556 * 42010, metric = 19.95% * 42010 4043.926s ( 10.4 samples/s);\n",
      "Precision:0.8663755921315973 Recall:0.9242119764409186 Acc:0.9224348987313599\n",
      "Finished Epoch[6 of 10]: [Training] loss = 116260.133286 * 41985, metric = 18.54% * 41985 4039.411s ( 10.4 samples/s);\n",
      "Precision:0.9085980081899686 Recall:0.9191471734913482 Acc:0.9398508791453372\n",
      "Finished Epoch[7 of 10]: [Training] loss = 102989.087723 * 41996, metric = 17.46% * 41996 4021.878s ( 10.4 samples/s);\n",
      "Precision:0.8921562685329844 Recall:0.9292901658318292 Acc:0.9361784998887158\n",
      "Finished Epoch[8 of 10]: [Training] loss = 88132.479147 * 42008, metric = 15.90% * 42008 4067.898s ( 10.3 samples/s);\n",
      "Precision:0.9223230804833563 Recall:0.939602571940061 Acc:0.954762964611618\n",
      "Finished Epoch[9 of 10]: [Training] loss = 79915.757714 * 42000, metric = 14.86% * 42000 4036.435s ( 10.4 samples/s);\n",
      "Precision:0.9329759484176915 Recall:0.9470587627008544 Acc:0.9624972178945026\n",
      "Finished Epoch[10 of 10]: [Training] loss = 69425.588304 * 41997, metric = 13.20% * 41997 4053.630s ( 10.4 samples/s);\n",
      "Precision:0.9389806581910565 Recall:0.956590329339573 Acc:0.9659470287113288\n"
     ]
    }
   ],
   "source": [
    "import cntk as C\n",
    "from deep_model import *\n",
    "#import deep_model\n",
    "prefix = \"/home/t-haohu/IndustryClassifier/Data\"\n",
    "suffix = \"180days_sample\"\n",
    "\n",
    "data_sample_body_ctf_train = \"{}/ready/train_{}_body.ctf\".format(prefix,suffix)\n",
    "data_sample_body_ctf_test = \"{}/ready/test_{}_body.ctf\".format(prefix,suffix)\n",
    "data_sample_ctf_train = \"{}/ready/train_{}.ctf\".format(prefix,suffix)\n",
    "data_sample_ctf_test = \"{}/ready/test_{}.ctf\".format(prefix,suffix)\n",
    "\n",
    "data_title_dict = \"{}/ready/title_{}.pkl\".format(prefix,suffix)\n",
    "data_body_dict = \"{}/ready/body_{}.pkl\".format(prefix,suffix)\n",
    "data_industry_sample = \"{}/ready/industry_{}.wl\".format(prefix,suffix)\n",
    "\n",
    "\n",
    "init_param_setting(vocabulary= 23184,industry = 19,title=23184,body = 60491)\n",
    "\n",
    "file_param_setting(data_industry_sample,data_title_dict,data_body_dict)\n",
    "super_param_setting(embed=300,hidden=200,sentence=30,doc=100,minibatch=8192,max_epoch_size = 10,l2_reg =0,lr = [5e-4*8192]*2+[1e-4*8192])\n",
    "#models = ['cnn']\n",
    "#for m in models:\n",
    "#    do_train(m,data_sample_ctf_train,data_sample_ctf_test,suffix,42000)\n",
    "#super_param_setting(embed=300,hidden=200,sentence=50,minibatch=2048,max_epoch_size = 30,l2_reg =0)\n",
    "models = ['cnn_body']\n",
    "for m in models:\n",
    "    do_train(m,data_sample_body_ctf_train,data_sample_body_ctf_test,suffix,42000)"
   ]
  },
  {
   "cell_type": "code",
   "execution_count": null,
   "metadata": {},
   "outputs": [],
   "source": [
    "from cntk import load_model\n",
    "evaluate(test_file,model_func,is_body=True):"
   ]
  },
  {
   "cell_type": "code",
   "execution_count": null,
   "metadata": {},
   "outputs": [],
   "source": []
  }
 ],
 "metadata": {
  "anaconda-cloud": {},
  "kernelspec": {
   "display_name": "Python 3",
   "language": "python",
   "name": "python3"
  },
  "language_info": {
   "codemirror_mode": {
    "name": "ipython",
    "version": 3
   },
   "file_extension": ".py",
   "mimetype": "text/x-python",
   "name": "python",
   "nbconvert_exporter": "python",
   "pygments_lexer": "ipython3",
   "version": "3.5.5"
  }
 },
 "nbformat": 4,
 "nbformat_minor": 1
}
