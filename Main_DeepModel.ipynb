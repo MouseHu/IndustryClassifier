{
 "cells": [
  {
   "cell_type": "code",
   "execution_count": 1,
   "metadata": {
    "collapsed": false,
    "scrolled": true
   },
   "outputs": [
    {
     "name": "stdout",
     "output_type": "stream",
     "text": [
      "cnn_2fold\n",
      "(Parameter('W', [], [300 x 1 x 301 x 19]), Parameter('b', [], [19]), Parameter('W', [], [100 x 1 x 4 x 300]), Parameter('b', [], [100 x 1 x 1]), Parameter('E', [], [69516 x 300]), Parameter('W', [], [100 x 1 x 3 x 300]), Parameter('b', [], [100 x 1 x 1]), Parameter('W', [], [100 x 1 x 5 x 300]), Parameter('b', [], [100 x 1 x 1]))\n",
      "Training 22930819 parameters in 9 parameter tensors.\n"
     ]
    },
    {
     "ename": "RuntimeError",
     "evalue": "CUDA failure 4: unspecified launch failure ; GPU=0 ; hostname=MININT-8LA6JR2 ; expr=cudaDeviceSynchronize()\n\n[CALL STACK]\n    > Microsoft::MSR::CNTK::CudaTimer::  Stop\n    - Microsoft::MSR::CNTK::CudaTimer::  Stop (x2)\n    - RtlRunOnceExecuteOnce\n    - InitOnceExecuteOnce\n    - _crtInitOnceExecuteOnce\n    - Microsoft::MSR::CNTK::GPUMatrix<half>::  GetCublasHandle\n    - Microsoft::MSR::CNTK::GPUSparseMatrix<half>::  performElementWiseFunction (x2)\n    - Microsoft::MSR::CNTK::GPUMatrix<float>::  TensorOp\n    - Microsoft::MSR::CNTK::Matrix<float>::  TensorOp\n    - Microsoft::MSR::CNTK::TensorView<float>::  DoUnaryOpOf\n    - Microsoft::MSR::CNTK::TensorView<float>::  AssignCopyOf\n    - std::enable_shared_from_this<Microsoft::MSR::CNTK::MatrixBase>::  shared_from_this (x2)\n    - CNTK::Internal::  UseSparseGradientAggregationInDataParallelSGD\n\n",
     "output_type": "error",
     "traceback": [
      "\u001b[1;31m---------------------------------------------------------------------------\u001b[0m",
      "\u001b[1;31mRuntimeError\u001b[0m                              Traceback (most recent call last)",
      "\u001b[1;32m<ipython-input-1-5b79808e2e6a>\u001b[0m in \u001b[0;36m<module>\u001b[1;34m()\u001b[0m\n\u001b[0;32m     20\u001b[0m \u001b[0mmodels\u001b[0m \u001b[1;33m=\u001b[0m \u001b[1;33m[\u001b[0m\u001b[1;34m'cnn_2fold'\u001b[0m\u001b[1;33m,\u001b[0m\u001b[1;34m'cnn'\u001b[0m\u001b[1;33m]\u001b[0m\u001b[1;33m\u001b[0m\u001b[0m\n\u001b[0;32m     21\u001b[0m \u001b[1;32mfor\u001b[0m \u001b[0mm\u001b[0m \u001b[1;32min\u001b[0m \u001b[0mmodels\u001b[0m\u001b[1;33m:\u001b[0m\u001b[1;33m\u001b[0m\u001b[0m\n\u001b[1;32m---> 22\u001b[1;33m     \u001b[0mdo_train\u001b[0m\u001b[1;33m(\u001b[0m\u001b[0mm\u001b[0m\u001b[1;33m,\u001b[0m\u001b[0mdata_sample_ctf_train\u001b[0m\u001b[1;33m,\u001b[0m\u001b[0mdata_sample_ctf_test\u001b[0m\u001b[1;33m,\u001b[0m\u001b[0msuffix\u001b[0m\u001b[1;33m,\u001b[0m\u001b[1;36m48000\u001b[0m\u001b[1;33m)\u001b[0m\u001b[1;33m\u001b[0m\u001b[0m\n\u001b[0m\u001b[0;32m     23\u001b[0m \u001b[0mmodels\u001b[0m \u001b[1;33m=\u001b[0m \u001b[1;33m[\u001b[0m\u001b[1;34m'cnn_2fold'\u001b[0m\u001b[1;33m,\u001b[0m\u001b[1;34m'cnn'\u001b[0m\u001b[1;33m]\u001b[0m\u001b[1;33m\u001b[0m\u001b[0m\n\u001b[0;32m     24\u001b[0m \u001b[1;32mfor\u001b[0m \u001b[0mm\u001b[0m \u001b[1;32min\u001b[0m \u001b[0mmodels\u001b[0m\u001b[1;33m:\u001b[0m\u001b[1;33m\u001b[0m\u001b[0m\n",
      "\u001b[1;32m~\\Documents\\Python\\IndustryClassifier\\deep_model.py\u001b[0m in \u001b[0;36mdo_train\u001b[1;34m(m, train_file, test_file, tag, epoch_size)\u001b[0m\n\u001b[0;32m    360\u001b[0m     \u001b[0mtrain_reader\u001b[0m \u001b[1;33m=\u001b[0m \u001b[0mcreate_reader\u001b[0m\u001b[1;33m(\u001b[0m\u001b[0mtrain_file\u001b[0m\u001b[1;33m,\u001b[0m \u001b[0mis_training\u001b[0m\u001b[1;33m=\u001b[0m\u001b[1;32mTrue\u001b[0m\u001b[1;33m,\u001b[0m\u001b[0mis_body\u001b[0m\u001b[1;33m=\u001b[0m\u001b[0mis_body\u001b[0m\u001b[1;33m)\u001b[0m\u001b[1;33m\u001b[0m\u001b[0m\n\u001b[0;32m    361\u001b[0m     \u001b[0mtest_reader\u001b[0m \u001b[1;33m=\u001b[0m \u001b[0mcreate_reader\u001b[0m\u001b[1;33m(\u001b[0m\u001b[0mtest_file\u001b[0m\u001b[1;33m,\u001b[0m \u001b[0mis_training\u001b[0m\u001b[1;33m=\u001b[0m\u001b[1;32mFalse\u001b[0m\u001b[1;33m,\u001b[0m\u001b[0mis_body\u001b[0m\u001b[1;33m=\u001b[0m\u001b[0mis_body\u001b[0m\u001b[1;33m)\u001b[0m\u001b[1;33m\u001b[0m\u001b[0m\n\u001b[1;32m--> 362\u001b[1;33m     \u001b[0mtrain\u001b[0m\u001b[1;33m(\u001b[0m\u001b[0mtrain_reader\u001b[0m\u001b[1;33m,\u001b[0m\u001b[0mtest_reader\u001b[0m\u001b[1;33m,\u001b[0m\u001b[0mz\u001b[0m\u001b[1;33m,\u001b[0m\u001b[0mepoch_size\u001b[0m\u001b[1;33m,\u001b[0m\u001b[0mis_body\u001b[0m\u001b[1;33m=\u001b[0m\u001b[0mis_body\u001b[0m\u001b[1;33m,\u001b[0m\u001b[0mdata_tag\u001b[0m\u001b[1;33m=\u001b[0m\u001b[0mtag\u001b[0m\u001b[1;33m)\u001b[0m\u001b[1;33m\u001b[0m\u001b[0m\n\u001b[0m\u001b[0;32m    363\u001b[0m     \u001b[0mz\u001b[0m\u001b[1;33m.\u001b[0m\u001b[0msave\u001b[0m\u001b[1;33m(\u001b[0m\u001b[1;34m\"news/Models/{}Model_{}_final.dnn\"\u001b[0m\u001b[1;33m.\u001b[0m\u001b[0mformat\u001b[0m\u001b[1;33m(\u001b[0m\u001b[0mm\u001b[0m\u001b[1;33m.\u001b[0m\u001b[0mupper\u001b[0m\u001b[1;33m(\u001b[0m\u001b[1;33m)\u001b[0m\u001b[1;33m)\u001b[0m\u001b[1;33m)\u001b[0m\u001b[1;33m\u001b[0m\u001b[0m\n\u001b[0;32m    364\u001b[0m \u001b[1;32mdef\u001b[0m \u001b[0minit_param_setting\u001b[0m\u001b[1;33m(\u001b[0m\u001b[0mvocabulary\u001b[0m\u001b[1;33m=\u001b[0m \u001b[1;36m100000\u001b[0m\u001b[1;33m,\u001b[0m\u001b[0mindustry\u001b[0m \u001b[1;33m=\u001b[0m \u001b[1;36m19\u001b[0m\u001b[1;33m,\u001b[0m\u001b[0mtitle\u001b[0m\u001b[1;33m=\u001b[0m\u001b[1;36m0\u001b[0m\u001b[1;33m,\u001b[0m\u001b[0mbody\u001b[0m \u001b[1;33m=\u001b[0m \u001b[1;36m0\u001b[0m\u001b[1;33m)\u001b[0m\u001b[1;33m:\u001b[0m\u001b[1;33m\u001b[0m\u001b[0m\n",
      "\u001b[1;32m~\\Documents\\Python\\IndustryClassifier\\deep_model.py\u001b[0m in \u001b[0;36mtrain\u001b[1;34m(train_reader, test_reader, model_func, epoch_size, max_epochs, is_body, data_tag)\u001b[0m\n\u001b[0;32m    339\u001b[0m         \u001b[1;32mwhile\u001b[0m \u001b[0mt\u001b[0m \u001b[1;33m<\u001b[0m \u001b[0mepoch_end\u001b[0m\u001b[1;33m:\u001b[0m                \u001b[1;31m# loop over minibatches on the epoch\u001b[0m\u001b[1;33m\u001b[0m\u001b[0m\n\u001b[0;32m    340\u001b[0m             \u001b[0mdata\u001b[0m \u001b[1;33m=\u001b[0m \u001b[0mtrain_reader\u001b[0m\u001b[1;33m.\u001b[0m\u001b[0mnext_minibatch\u001b[0m\u001b[1;33m(\u001b[0m\u001b[0mminibatch_size\u001b[0m\u001b[1;33m,\u001b[0m \u001b[0minput_map\u001b[0m\u001b[1;33m=\u001b[0m \u001b[0mdata_map\u001b[0m\u001b[1;33m)\u001b[0m  \u001b[1;31m# fetch minibatch\u001b[0m\u001b[1;33m\u001b[0m\u001b[0m\n\u001b[1;32m--> 341\u001b[1;33m             \u001b[0mtrainer\u001b[0m\u001b[1;33m.\u001b[0m\u001b[0mtrain_minibatch\u001b[0m\u001b[1;33m(\u001b[0m\u001b[0mdata\u001b[0m\u001b[1;33m)\u001b[0m               \u001b[1;31m# update model with it\u001b[0m\u001b[1;33m\u001b[0m\u001b[0m\n\u001b[0m\u001b[0;32m    342\u001b[0m             \u001b[0mt\u001b[0m \u001b[1;33m+=\u001b[0m \u001b[0mdata\u001b[0m\u001b[1;33m[\u001b[0m\u001b[0my\u001b[0m\u001b[1;33m]\u001b[0m\u001b[1;33m.\u001b[0m\u001b[0mnum_samples\u001b[0m                    \u001b[1;31m# samples so far\u001b[0m\u001b[1;33m\u001b[0m\u001b[0m\n\u001b[0;32m    343\u001b[0m         \u001b[0mtrainer\u001b[0m\u001b[1;33m.\u001b[0m\u001b[0msummarize_training_progress\u001b[0m\u001b[1;33m(\u001b[0m\u001b[1;33m)\u001b[0m\u001b[1;33m\u001b[0m\u001b[0m\n",
      "\u001b[1;32mC:\\local\\Anaconda3-4.1.1-Windows-x86_64\\envs\\cntk-py35\\lib\\site-packages\\cntk\\train\\trainer.py\u001b[0m in \u001b[0;36mtrain_minibatch\u001b[1;34m(self, arguments, outputs, device, is_sweep_end)\u001b[0m\n\u001b[0;32m    179\u001b[0m             \u001b[1;32mif\u001b[0m \u001b[0mcontains_minibatch_data\u001b[0m\u001b[1;33m:\u001b[0m\u001b[1;33m\u001b[0m\u001b[0m\n\u001b[0;32m    180\u001b[0m                 updated = super(Trainer, self).train_minibatch_overload_for_minibatchdata(\n\u001b[1;32m--> 181\u001b[1;33m                     arguments, device)\n\u001b[0m\u001b[0;32m    182\u001b[0m             \u001b[1;32melse\u001b[0m\u001b[1;33m:\u001b[0m\u001b[1;33m\u001b[0m\u001b[0m\n\u001b[0;32m    183\u001b[0m                 updated = super(Trainer, self).train_minibatch(arguments, is_sweep_end,\n",
      "\u001b[1;32mC:\\local\\Anaconda3-4.1.1-Windows-x86_64\\envs\\cntk-py35\\lib\\site-packages\\cntk\\cntk_py.py\u001b[0m in \u001b[0;36mtrain_minibatch_overload_for_minibatchdata\u001b[1;34m(self, *args)\u001b[0m\n\u001b[0;32m   3022\u001b[0m \u001b[1;33m\u001b[0m\u001b[0m\n\u001b[0;32m   3023\u001b[0m     \u001b[1;32mdef\u001b[0m \u001b[0mtrain_minibatch_overload_for_minibatchdata\u001b[0m\u001b[1;33m(\u001b[0m\u001b[0mself\u001b[0m\u001b[1;33m,\u001b[0m \u001b[1;33m*\u001b[0m\u001b[0margs\u001b[0m\u001b[1;33m)\u001b[0m\u001b[1;33m:\u001b[0m\u001b[1;33m\u001b[0m\u001b[0m\n\u001b[1;32m-> 3024\u001b[1;33m         \u001b[1;32mreturn\u001b[0m \u001b[0m_cntk_py\u001b[0m\u001b[1;33m.\u001b[0m\u001b[0mTrainer_train_minibatch_overload_for_minibatchdata\u001b[0m\u001b[1;33m(\u001b[0m\u001b[0mself\u001b[0m\u001b[1;33m,\u001b[0m \u001b[1;33m*\u001b[0m\u001b[0margs\u001b[0m\u001b[1;33m)\u001b[0m\u001b[1;33m\u001b[0m\u001b[0m\n\u001b[0m\u001b[0;32m   3025\u001b[0m \u001b[1;33m\u001b[0m\u001b[0m\n\u001b[0;32m   3026\u001b[0m     \u001b[1;32mdef\u001b[0m \u001b[0mtrain_minibatch\u001b[0m\u001b[1;33m(\u001b[0m\u001b[0mself\u001b[0m\u001b[1;33m,\u001b[0m \u001b[1;33m*\u001b[0m\u001b[0margs\u001b[0m\u001b[1;33m)\u001b[0m\u001b[1;33m:\u001b[0m\u001b[1;33m\u001b[0m\u001b[0m\n",
      "\u001b[1;31mRuntimeError\u001b[0m: CUDA failure 4: unspecified launch failure ; GPU=0 ; hostname=MININT-8LA6JR2 ; expr=cudaDeviceSynchronize()\n\n[CALL STACK]\n    > Microsoft::MSR::CNTK::CudaTimer::  Stop\n    - Microsoft::MSR::CNTK::CudaTimer::  Stop (x2)\n    - RtlRunOnceExecuteOnce\n    - InitOnceExecuteOnce\n    - _crtInitOnceExecuteOnce\n    - Microsoft::MSR::CNTK::GPUMatrix<half>::  GetCublasHandle\n    - Microsoft::MSR::CNTK::GPUSparseMatrix<half>::  performElementWiseFunction (x2)\n    - Microsoft::MSR::CNTK::GPUMatrix<float>::  TensorOp\n    - Microsoft::MSR::CNTK::Matrix<float>::  TensorOp\n    - Microsoft::MSR::CNTK::TensorView<float>::  DoUnaryOpOf\n    - Microsoft::MSR::CNTK::TensorView<float>::  AssignCopyOf\n    - std::enable_shared_from_this<Microsoft::MSR::CNTK::MatrixBase>::  shared_from_this (x2)\n    - CNTK::Internal::  UseSparseGradientAggregationInDataParallelSGD\n\n"
     ]
    }
   ],
   "source": [
    "import cntk as C\n",
    "from deep_model import *\n",
    "import deep_model\n",
    "prefix = \"C:\\\\Users\\\\t-haohu\\\\Documents\\\\Python\\\\IndustryClassifier\\\\Data\"\n",
    "suffix = \"180days_sample\"\n",
    "\n",
    "data_sample_body_ctf_train = \"{}\\\\ready\\\\train_{}_body.ctf\".format(prefix,suffix)\n",
    "data_sample_body_ctf_test = \"{}bilibi\\ready\\\\train_{}_body.ctf\".format(prefix,suffix)\n",
    "data_sample_ctf_train = \"{}\\\\ready\\\\train_{}.ctf\".format(prefix,suffix)\n",
    "data_sample_ctf_test = \"{}\\\\ready\\\\test_{}.ctf\".format(prefix,suffix)\n",
    "\n",
    "data_title_dict = \"{}\\\\ready\\\\title_{}.pkl\".format(prefix,suffix)\n",
    "data_body_dict = \"{}\\\\ready\\\\body_{}.pkl\".format(prefix,suffix)\n",
    "data_industry_sample = \"{}\\\\ready\\\\industry_{}.wl\".format(prefix,suffix)\n",
    "\n",
    "init_param_setting(vocabulary= 69516,industry = 19,title=69516,body = 388082)\n",
    "#print(deep_model.vocab_size,vocab_size)\n",
    "super_param_setting(embed=300,hidden=200,sentence=50)\n",
    "file_param_setting(data_industry_sample,data_title_dict,data_body_dict)\n",
    "models = ['cnn_2fold','cnn']\n",
    "for m in models:\n",
    "    do_train(m,data_sample_ctf_train,data_sample_ctf_test,suffix,48000)\n",
    "models = ['cnn_2fold','cnn']\n",
    "for m in models:\n",
    "    do_train(m,data_sample_body_ctf_train,data_sample_body_ctf_test,suffix,48000)"
   ]
  },
  {
   "cell_type": "code",
   "execution_count": null,
   "metadata": {
    "collapsed": true
   },
   "outputs": [],
   "source": []
  }
 ],
 "metadata": {
  "anaconda-cloud": {},
  "kernelspec": {
   "display_name": "Python [cntk-py35]",
   "language": "python",
   "name": "Python [cntk-py35]"
  },
  "language_info": {
   "codemirror_mode": {
    "name": "ipython",
    "version": 3
   },
   "file_extension": ".py",
   "mimetype": "text/x-python",
   "name": "python",
   "nbconvert_exporter": "python",
   "pygments_lexer": "ipython3",
   "version": "3.5.2"
  }
 },
 "nbformat": 4,
 "nbformat_minor": 0
}
