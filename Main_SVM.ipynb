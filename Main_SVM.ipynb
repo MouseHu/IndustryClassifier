{
 "cells": [
  {
   "cell_type": "code",
   "execution_count": 1,
   "metadata": {
    "collapsed": false,
    "scrolled": true
   },
   "outputs": [],
   "source": [
    "from svm import *\n",
    "\n",
    "suffix = \"180days_all\"\n",
    "prefix_ori = \"C:\\\\Users\\\\t-haohu\\\\Documents\\\\Python\\\\news\\\\Data\"\n",
    "prefix = \"C:\\\\Users\\\\t-haohu\\\\Documents\\\\Python\\\\IndustryClassifier\\\\Data\"\n",
    "\n",
    "data_train = \"{}\\\\middle\\\\train_{}.txt\".format(prefix,suffix)\n",
    "data_test = \"{}\\\\middle\\\\test_{}.txt\".format(prefix,suffix)\n",
    "data_industry = \"{}\\\\ready\\\\industry_{}.wl\".format(prefix,suffix)\n",
    "\n",
    "text_clf_svm_1 = Pipeline([('vect', CountVectorizer(stop_words='english',ngram_range=(1,2))),\n",
    "                      ('tfidf', TfidfTransformer()),\n",
    "                    #('svc',SVC(C=1000000,kernel='linear',probability=True,tol=1e-2))\n",
    "                      ('clf-svm', SGDClassifier(loss='hinge', penalty='elasticnet',\n",
    "                                            alpha=1e-9, n_iter=40, random_state=0)),\n",
    " ])\n",
    "title,label = load_data(data_train,data_industry)\n",
    "test_title,test_label = load_data(data_test,data_industry)\n",
    "#train(text_clf_svm_1,title,label)\n",
    "#test(text_clf_svm_1,test_title,test_label)"
   ]
  },
  {
   "cell_type": "code",
   "execution_count": 2,
   "metadata": {
    "collapsed": false
   },
   "outputs": [],
   "source": [
    "import pickle\n",
    "text_clf_svm_1=pickle.load(open(\"svm_180_85.pkl\",\"rb\"))"
   ]
  },
  {
   "cell_type": "code",
   "execution_count": null,
   "metadata": {
    "collapsed": false,
    "scrolled": true
   },
   "outputs": [],
   "source": [
    "def softmax(x):\n",
    "    exponent = np.exp(x- np.max(x))\n",
    "    return exponent/np.sum(exponent,axis=0)\n",
    "def normalize(x):\n",
    "    return x/np.sum(x,axis=0)\n",
    "x=text_clf_svm_1.decision_function(test_title)\n",
    "predict=text_clf_svm_1.predict(test_title)\n",
    "x.shape\n",
    "\n",
    "\n",
    "#x=text_clf_svm_1.decision_function(test_title)\n",
    "#y=softmax(x)\n"
   ]
  },
  {
   "cell_type": "code",
   "execution_count": 31,
   "metadata": {
    "collapsed": false
   },
   "outputs": [
    {
     "name": "stdout",
     "output_type": "stream",
     "text": [
      "[1.         1.         1.         1.         0.99926659 1.\n",
      " 1.         1.         1.         1.         1.         0.99999999\n",
      " 1.         1.         1.         1.         1.         0.84652331\n",
      " 0.999998   1.         0.79569923 1.         0.99999906 1.\n",
      " 0.99971772 1.         1.         1.         1.         1.\n",
      " 1.         0.99999991 1.         1.         1.         0.99993373\n",
      " 1.         1.         1.         1.         1.         1.\n",
      " 1.         1.         1.         1.         0.99986003 1.\n",
      " 1.         1.         1.         1.         0.99999159 1.\n",
      " 1.         1.         1.         1.         0.64217526 0.99999255\n",
      " 1.         1.         1.         1.         1.         1.\n",
      " 0.99999634 1.         1.         1.         1.         1.\n",
      " 1.         0.99999994 0.99878002 1.         0.99347858 1.\n",
      " 0.99573521 1.         1.         1.         0.99999999 0.77238163\n",
      " 0.99999357 0.99999494 0.9491894  1.         0.80611966 1.\n",
      " 1.         1.         1.         0.99996108 0.99999874 1.\n",
      " 1.         0.99999993 1.         1.        ]\n"
     ]
    },
    {
     "name": "stderr",
     "output_type": "stream",
     "text": [
      "C:\\Users\\t-haohu\\Documents\\Python\\IndustryClassifier\\svm.py:69: RuntimeWarning: invalid value encountered in true_divide\n",
      "  recall_th = np.diag(confuse)/np.sum(confuse,axis=0)\n"
     ]
    },
    {
     "data": {
      "image/png": "[encoded data removed]",
      "text/plain": [
       "<matplotlib.figure.Figure at 0x1f82137df28>"
      ]
     },
     "metadata": {},
     "output_type": "display_data"
    },
    {
     "data": {
      "image/png": "[encoded data removed]",
      "text/plain": [
       "<matplotlib.figure.Figure at 0x1f8259b27b8>"
      ]
     },
     "metadata": {},
     "output_type": "display_data"
    }
   ],
   "source": [
    "\n",
    "y= np.transpose(softmax(np.transpose(x)))\n",
    "y=np.max(y,axis=1)\n",
    "print(y[0:100])\n",
    "pr_plot(np.array(predict,dtype=np.int),np.array(test_label,dtype=np.int),y,min_th=0.99,max_th=0.99999999999)"
   ]
  },
  {
   "cell_type": "code",
   "execution_count": 6,
   "metadata": {
    "collapsed": false
   },
   "outputs": [],
   "source": [
    "import pickle\n",
    "pickle.dump(text_clf_svm_1,open(\"svm_180_85.pkl\",\"wb\"))"
   ]
  },
  {
   "cell_type": "code",
   "execution_count": 14,
   "metadata": {
    "collapsed": false
   },
   "outputs": [
    {
     "name": "stdout",
     "output_type": "stream",
     "text": [
      "0.9999999999999992\n"
     ]
    },
    {
     "name": "stderr",
     "output_type": "stream",
     "text": [
      "C:\\Users\\t-haohu\\Documents\\Python\\IndustryClassifier\\svm.py:69: RuntimeWarning: invalid value encountered in true_divide\n",
      "  recall_th = np.diag(confuse)/np.sum(confuse,axis=0)\n"
     ]
    },
    {
     "data": {
      "image/png": "[encoded data removed]",
      "text/plain": [
       "<matplotlib.figure.Figure at 0x1f8211abb38>"
      ]
     },
     "metadata": {},
     "output_type": "display_data"
    },
    {
     "data": {
      "image/png": "[encoded data removed]",
      "text/plain": [
       "<matplotlib.figure.Figure at 0x1f82d870a90>"
      ]
     },
     "metadata": {},
     "output_type": "display_data"
    }
   ],
   "source": []
  },
  {
   "cell_type": "code",
   "execution_count": null,
   "metadata": {
    "collapsed": true
   },
   "outputs": [],
   "source": []
  },
  {
   "cell_type": "code",
   "execution_count": 32,
   "metadata": {
    "collapsed": false,
    "scrolled": true
   },
   "outputs": [
    {
     "name": "stdout",
     "output_type": "stream",
     "text": [
      "Model Training ...\n"
     ]
    },
    {
     "name": "stderr",
     "output_type": "stream",
     "text": [
      "C:\\local\\Anaconda3-4.1.1-Windows-x86_64\\envs\\cntk-py35\\lib\\site-packages\\sklearn\\feature_extraction\\text.py:1059: FutureWarning: Conversion of the second argument of issubdtype from `float` to `np.floating` is deprecated. In future, it will be treated as `np.float64 == np.dtype(float).type`.\n",
      "  if hasattr(X, 'dtype') and np.issubdtype(X.dtype, np.float):\n"
     ]
    },
    {
     "name": "stdout",
     "output_type": "stream",
     "text": [
      "Model Training Finished.\n",
      "0.7314580821836257\n",
      "Recall:\n",
      "evergreen\t\t0.2065609228550829\n",
      "construction\t\t0.4640144665461121\n",
      "arts\t\t0.5002369668246446\n",
      "manufacture\t\t0.6208627450980392\n",
      "transportation\t\t0.712947189097104\n",
      "government\t\t0.4961470065204505\n",
      "healthcare&biotechnology\t\t0.7294037544985896\n",
      "airline\t\t0.7558525258269359\n",
      "entertainment\t\t0.7124759741394373\n",
      "non-profit&civilorganization\t\t0.5835396039603961\n",
      "automotiveindustry\t\t0.8079791847354727\n",
      "videogame\t\t0.7673074655030074\n",
      "food\t\t0.6548042704626335\n",
      "media\t\t0.3857027680730986\n",
      "education\t\t0.7904991649656709\n",
      "informationtechnology\t\t0.7525934553925673\n",
      "finance\t\t0.8136290349116515\n",
      "retail\t\t0.7204239394684367\n",
      "sports\t\t0.8579725181567427\n",
      "\n",
      "Precision:\n",
      "evergreen\t\t0.5139013452914798\n",
      "construction\t\t0.4938414164742109\n",
      "arts\t\t0.45752058951018637\n",
      "manufacture\t\t0.7348681767545489\n",
      "transportation\t\t0.7512501602769586\n",
      "government\t\t0.4903339191564148\n",
      "healthcare&biotechnology\t\t0.7358453537434991\n",
      "airline\t\t0.8513931888544891\n",
      "entertainment\t\t0.5354563361785949\n",
      "non-profit&civilorganization\t\t0.704407213744531\n",
      "automotiveindustry\t\t0.8215892053973014\n",
      "videogame\t\t0.8917826057158522\n",
      "food\t\t0.78975424022153\n",
      "media\t\t0.3361439010680157\n",
      "education\t\t0.6095728697145311\n",
      "informationtechnology\t\t0.6278582490662293\n",
      "finance\t\t0.8188019470843405\n",
      "retail\t\t0.7950681297479802\n",
      "sports\t\t0.8949320311468919\n",
      "\n",
      "F-Score:\n",
      "evergreen\t\t0.2946772949344304\n",
      "construction\t\t0.47846354652246875\n",
      "arts\t\t0.4779261942494906\n",
      "manufacture\t\t0.6730720176855709\n",
      "transportation\t\t0.7315976774676907\n",
      "government\t\t0.493223335297584\n",
      "healthcare&biotechnology\t\t0.732610394685424\n",
      "airline\t\t0.8007832111657798\n",
      "entertainment\t\t0.6114110061478483\n",
      "non-profit&civilorganization\t\t0.6383019871391965\n",
      "automotiveindustry\t\t0.8147273601819056\n",
      "videogame\t\t0.8248755903515167\n",
      "food\t\t0.7159757743119842\n",
      "media\t\t0.35922208595099236\n",
      "education\t\t0.6883457887295497\n",
      "informationtechnology\t\t0.6845904244752004\n",
      "finance\t\t0.8162072949331574\n",
      "retail\t\t0.7559077685903041\n",
      "sports\t\t0.8760626340404641\n",
      "0.6765432041656624 0.649102787212425 0.7314580821836257\n"
     ]
    }
   ],
   "source": [
    "from svm import *\n",
    "\n",
    "suffix = \"180days_all\"\n",
    "prefix_ori = \"C:\\\\Users\\\\t-haohu\\\\Documents\\\\Python\\\\news\\\\Data\"\n",
    "prefix = \"C:\\\\Users\\\\t-haohu\\\\Documents\\\\Python\\\\IndustryClassifier\\\\Data\"\n",
    "\n",
    "data_train = \"{}\\\\middle\\\\train_{}_with_linkedin.txt\".format(prefix,suffix)\n",
    "data_test = \"{}\\\\middle\\\\test_{}.txt\".format(prefix,suffix)\n",
    "data_industry = \"{}\\\\ready\\\\industry_{}.wl\".format(prefix,suffix)\n",
    "\n",
    "text_clf_svm = Pipeline([('vect', CountVectorizer(stop_words='english',ngram_range=(1,2))),\n",
    "                      ('tfidf', TfidfTransformer()),\n",
    "                    #('svc',SVC(C=1000000,kernel='linear',probability=True,tol=1e-2))\n",
    "                      ('clf-svm', SGDClassifier(loss='hinge', penalty='elasticnet',\n",
    "                                            alpha=1e-9, n_iter=40, random_state=0)),\n",
    " ])\n",
    "title,label = load_data(data_train,data_industry)\n",
    "test_title,test_label = load_data(data_test,data_industry)\n",
    "train(text_clf_svm,title,label)\n",
    "test(text_clf_svm,test_title,test_label)"
   ]
  },
  {
   "cell_type": "code",
   "execution_count": null,
   "metadata": {
    "collapsed": true
   },
   "outputs": [],
   "source": []
  },
  {
   "cell_type": "code",
   "execution_count": null,
   "metadata": {
    "collapsed": false
   },
   "outputs": [],
   "source": [
    "from svm import *\n",
    "\n",
    "suffix = \"180days_all\"\n",
    "prefix_ori = \"C:\\\\Users\\\\t-haohu\\\\Documents\\\\Python\\\\news\\\\Data\"\n",
    "prefix = \"C:\\\\Users\\\\t-haohu\\\\Documents\\\\Python\\\\IndustryClassifier\\\\Data\"\n",
    "\n",
    "data_train = \"{}\\\\middle\\\\train_{}_with_linkedin.txt\".format(prefix,suffix)\n",
    "data_test = \"{}\\\\middle\\\\test_{}.txt\".format(prefix,suffix)\n",
    "data_industry = \"{}\\\\ready\\\\industry_{}.wl\".format(prefix,suffix)\n",
    "\n",
    "text_clf_svm = Pipeline([('vect', CountVectorizer(stop_words='english',ngram_range=(1,2))),\n",
    "                      ('tfidf', TfidfTransformer()),\n",
    "                    #('svc',SVC(C=1000000,kernel='linear',probability=True,tol=1e-2))\n",
    "                      ('clf-svm', SGDClassifier(loss='hinge', penalty='elasticnet',\n",
    "                                            alpha=1e-2, n_iter=40, random_state=0)),\n",
    " ])\n",
    "title,label = load_data(data_train,data_industry)\n",
    "test_title,test_label = load_data(data_test,data_industry)\n",
    "train(text_clf_svm,title,label)\n",
    "test(text_clf_svm,test_title,test_label)"
   ]
  },
  {
   "cell_type": "code",
   "execution_count": 55,
   "metadata": {
    "collapsed": false,
    "scrolled": true
   },
   "outputs": [
    {
     "name": "stderr",
     "output_type": "stream",
     "text": [
      "C:\\local\\Anaconda3-4.1.1-Windows-x86_64\\envs\\cntk-py35\\lib\\site-packages\\sklearn\\feature_extraction\\text.py:1059: FutureWarning: Conversion of the second argument of issubdtype from `float` to `np.floating` is deprecated. In future, it will be treated as `np.float64 == np.dtype(float).type`.\n",
      "  if hasattr(X, 'dtype') and np.issubdtype(X.dtype, np.float):\n"
     ]
    }
   ],
   "source": [
    "from sklearn.externals import joblib\n",
    "from data_processor import *\n",
    "\n",
    "\n",
    "process_setting(low =False,old = True,stop = False)\n",
    "#text_clf_svm=joblib.load('svm_170_88.pkl')\n",
    "suffix = \"170_19\"\n",
    "prefix = \"C:\\\\Users\\\\t-haohu\\\\Documents\\\\Python\\\\IndustryClassifier\\\\Data\"\n",
    "industry =[x.rstrip(\"\\n\") for x in open(\"{}\\\\ready\\\\industry_{}.wl\".format(prefix_ori,suffix)).readlines()]\n",
    "suffix = \"1day_measure\"\n",
    "val_doc = \"{}\\\\middle\\\\{}.txt\".format(prefix,suffix)\n",
    "val_doc = [x.strip(\"\\n\") for x in open(val_doc).readlines()]\n",
    "\n",
    "\n",
    "#process_setting(low =False,old = False,stop = False)\n",
    "#val_doc = [tokenize(x) for x in val_doc]\n",
    "output_file = \"{}\\\\middle\\\\{}_predict.txt\".format(prefix,suffix)\n",
    "output = open(output_file,\"w\",encoding = \"utf-8\")\n",
    "for x in [industry[x] for x in text_clf_svm.predict(val_doc)]:\n",
    "    output.write(x+\"\\n\")\n",
    "\n",
    "#print([industry[x] for x in text_clf_svm_1.predict(val_doc)])"
   ]
  },
  {
   "cell_type": "code",
   "execution_count": 5,
   "metadata": {
    "collapsed": false
   },
   "outputs": [
    {
     "name": "stdout",
     "output_type": "stream",
     "text": [
      "Sample Data Succeed. Total: 380\n"
     ]
    }
   ],
   "source": [
    "from sklearn.externals import joblib\n",
    "from data_processor import *\n",
    "from data_generator import *\n",
    "suffix = \"170_19\"\n",
    "prefix = \"C:\\\\Users\\\\t-haohu\\\\Documents\\\\Python\\\\IndustryClassifier\\\\Data\"\n",
    "prefix_ori = \"C:\\\\Users\\\\t-haohu\\\\Documents\\\\Python\\\\news\\\\Data\"\n",
    "industry ={x.rstrip(\"\\n\"):i for i,x in enumerate(open(\"{}\\\\ready\\\\industry_{}.wl\".format(prefix_ori,suffix)).readlines())}\n",
    "suffix = \"1day_measure\"\n",
    "val_doc = \"{}\\\\middle\\\\{}.txt\".format(prefix,suffix)\n",
    "val_doc_concated = \"{}\\\\middle\\\\{}_concated.txt\".format(prefix,suffix)\n",
    "#val_doc = [x.strip(\"\\n\") for x in open(val_doc).readlines()]\n",
    "val_doc_sample = \"{}\\\\middle\\\\{}_sample.txt\".format(prefix,suffix)\n",
    "output_file = \"{}\\\\middle\\\\{}_predict.txt\".format(prefix,suffix)\n",
    "#output_file = [x.strip(\"\\n\") for x in open(output_file).readlines()]\n",
    "concatenate_data([val_doc,output_file],val_doc_concated)\n",
    "sample=sample_data(val_doc_concated,val_doc_sample,19,per_class=20,classifier=(lambda x:industry[x.split(\"\\t\")[1].strip(\"\\n\")]))"
   ]
  },
  {
   "cell_type": "code",
   "execution_count": null,
   "metadata": {
    "collapsed": true
   },
   "outputs": [],
   "source": [
    "from sklearn.externals import joblib\n",
    "from data_processor import *\n",
    "from data_generator import *\n",
    "suffix = \"170_19\"\n",
    "prefix = \"C:\\\\Users\\\\t-haohu\\\\Documents\\\\Python\\\\IndustryClassifier\\\\Data\"\n",
    "prefix_ori = \"C:\\\\Users\\\\t-haohu\\\\Documents\\\\Python\\\\news\\\\Data\""
   ]
  },
  {
   "cell_type": "code",
   "execution_count": null,
   "metadata": {
    "collapsed": true
   },
   "outputs": [],
   "source": []
  }
 ],
 "metadata": {
  "anaconda-cloud": {},
  "kernelspec": {
   "display_name": "Python [cntk-py35]",
   "language": "python",
   "name": "Python [cntk-py35]"
  },
  "language_info": {
   "codemirror_mode": {
    "name": "ipython",
    "version": 3
   },
   "file_extension": ".py",
   "mimetype": "text/x-python",
   "name": "python",
   "nbconvert_exporter": "python",
   "pygments_lexer": "ipython3",
   "version": "3.5.2"
  }
 },
 "nbformat": 4,
 "nbformat_minor": 0
}
