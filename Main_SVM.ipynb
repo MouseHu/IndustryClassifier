{
 "cells": [
  {
   "cell_type": "code",
   "execution_count": 16,
   "metadata": {
    "scrolled": true
   },
   "outputs": [
    {
     "name": "stderr",
     "output_type": "stream",
     "text": [
      "C:\\local\\Anaconda3-4.1.1-Windows-x86_64\\envs\\cntk-py35\\lib\\site-packages\\sklearn\\feature_extraction\\text.py:1059: FutureWarning: Conversion of the second argument of issubdtype from `float` to `np.floating` is deprecated. In future, it will be treated as `np.float64 == np.dtype(float).type`.\n",
      "  if hasattr(X, 'dtype') and np.issubdtype(X.dtype, np.float):\n"
     ]
    },
    {
     "name": "stdout",
     "output_type": "stream",
     "text": [
      "Model Training Finished.\n",
      "0.7736\n",
      "Recall:\n",
      "evergreen\t\t0.15503875968992248\n",
      "construction\t\t0.3359375\n",
      "arts\t\t0.6325301204819277\n",
      "manufacture\t\t0.5543071161048689\n",
      "transportation\t\t0.6910112359550562\n",
      "government\t\t0.587467362924282\n",
      "healthcare&biotechnology\t\t0.6903669724770642\n",
      "airline\t\t0.8166311300639659\n",
      "non-profit&civilorganization\t\t0.6854368932038835\n",
      "automotiveindustry\t\t0.8639175257731959\n",
      "entertainment\t\t0.7037037037037037\n",
      "videogame\t\t0.8142664872139973\n",
      "food\t\t0.7099514563106796\n",
      "media\t\t0.31981460023174973\n",
      "education\t\t0.8432671081677704\n",
      "informationtechnology\t\t0.7555739058629232\n",
      "finance\t\t0.8719247467438495\n",
      "retail\t\t0.8017135862913096\n",
      "sports\t\t0.9320797081111423\n",
      "\n",
      "Precision:\n",
      "evergreen\t\t0.40816326530612246\n",
      "construction\t\t0.8113207547169812\n",
      "arts\t\t0.7046979865771812\n",
      "manufacture\t\t0.7551020408163265\n",
      "transportation\t\t0.8282828282828283\n",
      "government\t\t0.5859375\n",
      "healthcare&biotechnology\t\t0.7065727699530516\n",
      "airline\t\t0.8046218487394958\n",
      "non-profit&civilorganization\t\t0.710261569416499\n",
      "automotiveindustry\t\t0.8430583501006036\n",
      "entertainment\t\t0.7293666026871402\n",
      "videogame\t\t0.8265027322404371\n",
      "food\t\t0.7862903225806451\n",
      "media\t\t0.549800796812749\n",
      "education\t\t0.7512291052114061\n",
      "informationtechnology\t\t0.7355305466237942\n",
      "finance\t\t0.770460358056266\n",
      "retail\t\t0.7638483965014577\n",
      "sports\t\t0.8435356870713742\n",
      "\n",
      "F-Score:\n",
      "evergreen\t\t0.2247191011235955\n",
      "construction\t\t0.4751381215469613\n",
      "arts\t\t0.6666666666666666\n",
      "manufacture\t\t0.6393088552915768\n",
      "transportation\t\t0.7534456355283309\n",
      "government\t\t0.5867014341590613\n",
      "healthcare&biotechnology\t\t0.6983758700696056\n",
      "airline\t\t0.8105820105820106\n",
      "non-profit&civilorganization\t\t0.6976284584980236\n",
      "automotiveindustry\t\t0.8533604887983707\n",
      "entertainment\t\t0.7163053722902921\n",
      "videogame\t\t0.8203389830508474\n",
      "food\t\t0.7461734693877551\n",
      "media\t\t0.40439560439560446\n",
      "education\t\t0.7945917836713469\n",
      "informationtechnology\t\t0.745417515274949\n",
      "finance\t\t0.8180583842498302\n",
      "retail\t\t0.7823230815168707\n",
      "sports\t\t0.8856\n",
      "0.7323464979839137 0.6718389431216469 0.7736\n"
     ]
    }
   ],
   "source": [
    "from svm import *\n",
    "\n",
    "suffix = \"180days_sample\"\n",
    "prefix_ori = \"C:\\\\Users\\\\t-haohu\\\\Documents\\\\Python\\\\news\\\\Data\"\n",
    "prefix = \"C:\\\\Users\\\\t-haohu\\\\Documents\\\\Python\\\\IndustryClassifier\\\\Data\"\n",
    "\n",
    "data_train = \"{}\\\\middle\\\\train_{}.txt\".format(prefix,suffix)\n",
    "data_test = \"{}\\\\middle\\\\test_{}.txt\".format(prefix,suffix)\n",
    "data_industry = \"{}\\\\ready\\\\industry_{}.wl\".format(prefix,suffix)\n",
    "\n",
    "text_clf_svm = Pipeline([('vect', CountVectorizer(stop_words='english',ngram_range=(1,2))),\n",
    "                      ('tfidf', TfidfTransformer()),\n",
    "                    #('svc',SVC(C=1000000,kernel='linear',probability=True,tol=1e-2))\n",
    "                      ('clf-svm', SGDClassifier(loss='hinge', penalty='elasticnet',\n",
    "                                            alpha=1e-5, n_iter=40, random_state=0)),\n",
    " ])\n",
    "title,label = load_data(data_train,data_industry)\n",
    "test_title,test_label = load_data(data_test,data_industry)\n",
    "train(text_clf_svm,title,label)\n",
    "test(text_clf_svm,test_title,test_label)"
   ]
  },
  {
   "cell_type": "code",
   "execution_count": 18,
   "metadata": {
    "scrolled": true
   },
   "outputs": [
    {
     "name": "stdout",
     "output_type": "stream",
     "text": [
      "['healthcare&biotechnology', 'retail', 'informationtechnology', 'finance', 'entertainment', 'media', 'sports', 'sports', 'sports', 'sports', 'airline', 'non-profit&civilorganization', 'informationtechnology', 'government', 'media', 'media', 'retail', 'sports', 'retail', 'media']\n"
     ]
    },
    {
     "name": "stderr",
     "output_type": "stream",
     "text": [
      "C:\\local\\Anaconda3-4.1.1-Windows-x86_64\\envs\\cntk-py35\\lib\\site-packages\\sklearn\\feature_extraction\\text.py:1059: FutureWarning: Conversion of the second argument of issubdtype from `float` to `np.floating` is deprecated. In future, it will be treated as `np.float64 == np.dtype(float).type`.\n",
      "  if hasattr(X, 'dtype') and np.issubdtype(X.dtype, np.float):\n"
     ]
    }
   ],
   "source": [
    "from sklearn.externals import joblib\n",
    "from data_processor import *\n",
    "\n",
    "#text_clf_svm=joblib.load('svm_170_88.pkl')\n",
    "suffix = \"170_19\"\n",
    "industry =[x.rstrip(\"\\n\") for x in open(\"{}\\\\ready\\\\industry_{}.wl\".format(prefix_ori,suffix)).readlines()]\n",
    "val_doc = [\n",
    "    \"Petr Cech calls Bayer Leverkusen 'sad' after Tweet\",\n",
    "    \n",
    "    \"Exclusive: Alibaba merging China food delivery units to counter Tencent-backed Meituan - sources\",\n",
    "    \"Softbank-Alibaba vs Google-Tencent: Examining the head-on clash\",\n",
    "    \"Tencent-backed Weimob files for Hong Kong IPO as marketing solutions provider joins rush to go public\",\n",
    "    \n",
    "    \"Official Images: Jordan x Vogue Air Jordan 3 AWOK “Black”\",\n",
    "    \"Anti-fascists line streets in protest as neonazis march through Stockholm\",\n",
    "    \"UH keeping a lid on depth chart before season opener\",\n",
    "    \"Rhule announces 3 suspensions for Baylor football team\",\n",
    "    \"Did Texas Tech head coach Kliff Kingsbury just hint at McLane Carter being his starting quarterback?\",\n",
    "    \"Big Ten predictions: Is Ohio State overrated? Can any team challenge Wisconsin in the West?\",\n",
    "    \"HOUSEHOLDER: Tony Stewart's All Star drivers earn 3-2 edge against Pennsylvania Posse\",\n",
    "    \"Mount Everest is a 'fecal time bomb.' Here's one man's idea for handling 14 tons of human waste.\",\n",
    "    \n",
    "    \"Look out, IBM. A Duke-led group is also a player in quantum computing.\",\n",
    "\"Ex-White House aide says Trump trying to silence her\",\n",
    "\"Young women: Age group of women most unhappy with Trump presidency - CBS News / Refinery 29 poll\",\n",
    "\"Three women on motorbikes across Pakistan: BBC News Urdu On Wheels\",\n",
    "\"NPR's First How I Built This Summit Now Sold Out\",\n",
    "\"Redshirt freshman Greg Johnson pushing senior Isaiah Langley for USCâ€™s starting cornerback spot \",\n",
    "\"Costco reportedly has a tradition that gives workers the chance to win hundreds of dollars\",\n",
    "\"Queen Elizabeth First British Monarch To Visit These Countries, Report Says\",\n",
    "\n",
    "]\n",
    "#process_setting(low =True,old = True,stop = True)\n",
    "process_setting(low =False,old = False,stop = False)\n",
    "val_doc = [tokenize(x) for x in val_doc]\n",
    "\n",
    "print([industry[x] for x in text_clf_svm.predict(val_doc)])\n",
    "\n"
   ]
  },
  {
   "cell_type": "code",
   "execution_count": null,
   "metadata": {
    "collapsed": true
   },
   "outputs": [],
   "source": []
  }
 ],
 "metadata": {
  "anaconda-cloud": {},
  "kernelspec": {
   "display_name": "Python 3",
   "language": "python",
   "name": "python3"
  },
  "language_info": {
   "codemirror_mode": {
    "name": "ipython",
    "version": 3
   },
   "file_extension": ".py",
   "mimetype": "text/x-python",
   "name": "python",
   "nbconvert_exporter": "python",
   "pygments_lexer": "ipython3",
   "version": "3.5.5"
  }
 },
 "nbformat": 4,
 "nbformat_minor": 1
}
