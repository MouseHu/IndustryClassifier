{
 "cells": [
  {
   "cell_type": "code",
   "execution_count": 1,
   "metadata": {},
   "outputs": [],
   "source": [
    "from deepmodel_util import *\n",
    "from deepmodel_definition import *\n",
    "import deepmodel_util\n",
    "import deepmodel_definition\n",
    "\n",
    "deepmodel_definition.num_labels = 19#\n",
    "deepmodel_definition.emb_dim    = 300\n",
    "deepmodel_definition.hidden_dim = 200\n",
    "\n",
    "deepmodel_util.max_length_title = 30\n",
    "deepmodel_util.max_length_body  = 100\n",
    "deepmodel_definition.max_length_title = 30\n",
    "deepmodel_definition.max_length_body  = 100\n",
    "\n",
    "dropout_rate=0.5\n",
    "process_setting(low =False,old = True,stop = False)\n",
    "\n",
    "suffix = \"180days_all_body_shuffled\"\n",
    "prefix = \"/home/t-haohu/IndustryClassifier/Data/\"\n",
    "\n",
    "\n",
    "data_train_body = \"{}/middle/train_{}.txt\".format(prefix,suffix)\n",
    "data_test_body  = \"{}/middle/test_{}.txt\".format(prefix,suffix)\n",
    "\n",
    "\n",
    "data_title_vocab    = \"{}/ready/title_{}.wl\".format(prefix,suffix)\n",
    "data_body_vocab     = \"{}/ready/body_{}.wl\".format(prefix,suffix)\n",
    "data_industry_vocab = \"{}/ready/industry_{}.wl\".format(prefix,suffix)\n",
    "\n",
    "\n",
    "\n",
    "\n",
    "\n",
    "\n",
    "\n",
    "title_dict =     { x:i for i,x in enumerate([x.strip(\"\\n\") for x in open(data_title_vocab).readlines()])}\n",
    "body_dict  =     { x:i for i,x in enumerate([x.strip(\"\\n\") for x in open(data_body_vocab ).readlines()])}\n",
    "industry_dict =  { x:i for i,x in enumerate([x.strip(\"\\n\") for x in open(data_industry_vocab).readlines()])}\n",
    "\n",
    "\n",
    "\n",
    "\n",
    "deepmodel_util.input_xt = C.input_variable(shape=(deepmodel_util.max_length_title),  dtype=np.float32)\n",
    "deepmodel_util.input_xb = C.input_variable(shape=(deepmodel_util.max_length_body) ,  dtype=np.float32)\n",
    "deepmodel_util.input_y  = C.input_variable(shape=(1)               ,  dtype=np.int)\n",
    "\n",
    "deepmodel_definition.input_xt_one_hot = C.one_hot(deepmodel_util.input_xt, num_classes=len(title_dict)   ,  sparse_output=True)\n",
    "deepmodel_definition.input_xb_one_hot = C.one_hot(deepmodel_util.input_xb, num_classes=len(body_dict)+1    ,  sparse_output=True) \n",
    "deepmodel_definition.input_y_one_hot = C.one_hot(deepmodel_util.input_y  , num_classes=len(industry_dict) ,  sparse_output=True)\n",
    "\n",
    "deepmodel_util.input_xt_one_hot = deepmodel_definition.input_xt_one_hot\n",
    "deepmodel_util.input_xb_one_hot = deepmodel_definition.input_xb_one_hot\n",
    "deepmodel_util.input_y_one_hot = deepmodel_definition.input_y_one_hot\n",
    "\n",
    "deepmodel_util.test_data  = load_data_body(data_test_body,title_dict,body_dict,industry_dict)\n",
    "deepmodel_util.train_data = load_data_body(data_train_body,title_dict,body_dict,industry_dict)\n",
    "\n",
    "\n",
    "\n",
    "#embedding_title = load_embedding(data_title_vocab,\"word2vec_title.model\")\n",
    "#embedding_body = load_embedding(data_body_vocab,\"word2vec_body.model\")\n",
    "\n",
    "\n",
    "\n",
    "    "
   ]
  },
  {
   "cell_type": "code",
   "execution_count": null,
   "metadata": {
    "scrolled": true
   },
   "outputs": [],
   "source": [
    "train_body(create_model_cnn_with_body(),deepmodel_util.train_data,num_epochs=20,learning_rate=[5e-4*30]*2+[1e-4*30],batch_size = 30,tag = \"rcnn_body\")"
   ]
  },
  {
   "cell_type": "code",
   "execution_count": null,
   "metadata": {},
   "outputs": [],
   "source": [
    "train_body(creatdfmotue_model_rcnn_body(),deepmodel_util.train_data,num_epochs=20,learning_rate=[5e-4*30]*2+[1e-4*30],batch_size = 30,tag = \"rcnn_body\")"
   ]
  },
  {
   "cell_type": "code",
   "execution_count": 78,
   "metadata": {},
   "outputs": [
    {
     "name": "stdout",
     "output_type": "stream",
     "text": [
      "data_size:  361 batch_size:  30 num_batches_per_epoch:  13\n",
      "Precision:0.5033521453952122 Recall:0.6820123936735778 Acc:0.4515235457063712\n",
      "OK\n"
     ]
    },
    {
     "name": "stderr",
     "output_type": "stream",
     "text": [
      "/home/t-haohu/anaconda3/envs/cntk-py35/lib/python3.5/site-packages/ipykernel_launcher.py:223: RuntimeWarning: invalid value encountered in true_divide\n"
     ]
    }
   ],
   "source": [
    "#test code \n",
    "#run the first cell first to load dict\n",
    "from cntk import load_model\n",
    "\n",
    "suffix = \"180days_all_body_shuffled\"\n",
    "prefix = \"/home/t-haohu/IndustryClassifier/Data/\"\n",
    "\n",
    "\n",
    "data_title_vocab    = \"{}/ready/title_{}.wl\".format(prefix,suffix)\n",
    "data_body_vocab     = \"{}/ready/body_{}.wl\".format(prefix,suffix)\n",
    "data_industry_vocab = \"{}/ready/industry_{}.wl\".format(prefix,suffix)\n",
    "\n",
    "title_dict =     { x:i for i,x in enumerate([x.strip(\"\\n\") for x in open(data_title_vocab).readlines()])}\n",
    "body_dict  =     { x:i for i,x in enumerate([x.strip(\"\\n\") for x in open(data_body_vocab ).readlines()])}\n",
    "industry_dict =  { x:i for i,x in enumerate([x.strip(\"\\n\") for x in open(data_industry_vocab).readlines()])}\n",
    "\n",
    "model = load_model(\"model/180days_all_body_shuffled/rcnn_body_acc0.871.dnn\")\n",
    "data_test_body = \"1day_sample_gt_body.txt\"\n",
    "test_data  = load_data_body(data_test_body,title_dict,body_dict,industry_dict,raw=True)\n",
    "test_body(30,model,test_data)\n",
    "print(\"OK\")"
   ]
  },
  {
   "cell_type": "code",
   "execution_count": 6,
   "metadata": {},
   "outputs": [
    {
     "name": "stdout",
     "output_type": "stream",
     "text": [
      "data_size:  361 batch_size:  20 num_batches_per_epoch:  19\n",
      "predict finished.\n"
     ]
    }
   ],
   "source": [
    "#predict code\n",
    "from cntk import load_model\n",
    "from data_processor import *\n",
    "process_setting(low=False,old = True,stop = False)\n",
    "deepmodel_util.batch_size = 20\n",
    "#deepmodel_util.input_xt = C.input_variable(**Sequence[Tensor[1]])\n",
    "    \n",
    "model_file =\"model/180days_all_body_shuffled/cnn_body_acc0.867.dnn\"\n",
    "suffix_file = \"180days_all_body_shuffled\"\n",
    "industry_file = \"180days_all_body_shuffled\"\n",
    "\n",
    "model = load_model(model_file)\n",
    "\n",
    "data_industry_vocab = \"{}/ready/industry_{}.wl\".format(prefix,industry_file)\n",
    "data_title_vocab    = \"{}/ready/title_{}.wl\".format(prefix,suffix_file)\n",
    "data_body_vocab     = \"{}/ready/body_{}.wl\".format(prefix,suffix_file)\n",
    "\n",
    "title_dict =     { x:i for i,x in enumerate([x.strip(\"\\n\") for x in open(data_title_vocab).readlines()])}\n",
    "body_dict =     { x:i for i,x in enumerate([x.strip(\"\\n\") for x in open(data_body_vocab).readlines()])}\n",
    "\n",
    "inference_body(model,\"Data/middle/1day_measure_sample_valid.txt\",\"val/dyn_cnn_1day_measure_{}.txt\".format(suffix),title_dict,body_dict,data_industry_vocab)\n"
   ]
  },
  {
   "cell_type": "code",
   "execution_count": null,
   "metadata": {},
   "outputs": [],
   "source": []
  }
 ],
 "metadata": {
  "kernelspec": {
   "display_name": "Python 3",
   "language": "python",
   "name": "python3"
  },
  "language_info": {
   "codemirror_mode": {
    "name": "ipython",
    "version": 3
   },
   "file_extension": ".py",
   "mimetype": "text/x-python",
   "name": "python",
   "nbconvert_exporter": "python",
   "pygments_lexer": "ipython3",
   "version": "3.6.5"
  }
 },
 "nbformat": 4,
 "nbformat_minor": 2
}
