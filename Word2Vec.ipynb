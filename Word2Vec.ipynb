{
 "cells": [
  {
   "cell_type": "code",
   "execution_count": 1,
   "metadata": {},
   "outputs": [],
   "source": [
    "from gensim.test.utils import common_texts, get_tmpfile\n",
    "from gensim.models import Word2Vec\n",
    "\n",
    "def load_data_w2v(input_file):\n",
    "    data = open(input_file, encoding = \"utf-8\").readlines()    \n",
    "    output_title = [x.strip(\"\\n\").split(\"\\t\")[0].split(\" \") for x in data]\n",
    "    output_\n",
    "    return output\n",
    "suffix = \"180days_all_shuffled\"\n",
    "prefix = \"/home/t-haohu/IndustryClassifier/Data/\"\n",
    "input_file = \"{}/middle/train_{}.txt\".format(prefix,suffix)\n",
    "path = get_tmpfile(\"word2vec.model\")\n",
    "\n",
    "model = Word2Vec(load_data_w2v(input_file), size=300, window=5, min_count=1, workers=4)\n",
    "model.save(\"word2vec.model\")\n",
    "\n"
   ]
  },
  {
   "cell_type": "code",
   "execution_count": 8,
   "metadata": {},
   "outputs": [],
   "source": [
    "from gensim.test.utils import common_texts, get_tmpfile\n",
    "from gensim.models import Word2Vec\n",
    "def load_data_w2v(input_file):\n",
    "    data = open(input_file, encoding = \"utf-8\").readlines()    \n",
    "    output_title = [x.strip(\"\\n\").split(\"\\t\")[0].split(\" \") for x in data]\n",
    "    output_body = [x.strip(\"\\n\").split(\"\\t\")[1].split(\" \") for x in data]\n",
    "    return output_title,output_body\n",
    "suffix = \"180days_all_body_shuffled\"\n",
    "prefix = \"/home/t-haohu/IndustryClassifier/Data/\"\n",
    "input_file = \"{}/middle/train_{}.txt\".format(prefix,suffix)\n",
    "\n",
    "\n",
    "\n",
    "title,body=load_data_w2v(input_file)\n",
    "path = get_tmpfile(\"word2vec_title.model\")\n",
    "model = Word2Vec(title, size=300, window=5, min_count=1, workers=4)\n",
    "model.save(\"word2vec_title.model\")\n",
    "\n",
    "path = get_tmpfile(\"word2vec_body.model\")\n",
    "model = Word2Vec(body, size=300, window=5, min_count=1, workers=4)\n",
    "model.save(\"word2vec_body.model\")"
   ]
  },
  {
   "cell_type": "code",
   "execution_count": 27,
   "metadata": {},
   "outputs": [
    {
     "name": "stdout",
     "output_type": "stream",
     "text": [
      "['State', 'of', 'Decay', 'continues', 'to', 'rack', 'up', 'the', 'numbers', 'million', 'players', 'in', 'just', 'two', 'weeks']\n"
     ]
    }
   ],
   "source": [
    "print(load_data_w2v(input_file)[100])"
   ]
  },
  {
   "cell_type": "code",
   "execution_count": null,
   "metadata": {},
   "outputs": [],
   "source": []
  }
 ],
 "metadata": {
  "kernelspec": {
   "display_name": "Python 3",
   "language": "python",
   "name": "python3"
  },
  "language_info": {
   "codemirror_mode": {
    "name": "ipython",
    "version": 3
   },
   "file_extension": ".py",
   "mimetype": "text/x-python",
   "name": "python",
   "nbconvert_exporter": "python",
   "pygments_lexer": "ipython3",
   "version": "3.6.5"
  }
 },
 "nbformat": 4,
 "nbformat_minor": 2
}
