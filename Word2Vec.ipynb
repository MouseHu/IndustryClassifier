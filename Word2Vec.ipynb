{
 "cells": [
  {
   "cell_type": "code",
   "execution_count": 43,
   "metadata": {},
   "outputs": [],
   "source": [
    "from gensim.test.utils import common_texts, get_tmpfile\n",
    "from gensim.models import Word2Vec\n",
    "def load_data_w2v(input_file):\n",
    "    data = open(input_file, encoding = \"utf-8\").readlines()    \n",
    "    output = [x.strip(\"\\n\").split(\"\\t\")[0].split(\" \") for x in data]\n",
    "    return output\n",
    "suffix = \"180days_all_shuffled\"\n",
    "prefix = \"/home/t-haohu/IndustryClassifier/Data/\"\n",
    "input_file = \"{}/middle/train_{}.txt\".format(prefix,suffix)\n",
    "path = get_tmpfile(\"word2vec.model\")\n",
    "\n",
    "model = Word2Vec(load_data_w2v(input_file), size=300, window=5, min_count=1, workers=4)\n",
    "model.save(\"word2vec.model\")"
   ]
  },
  {
   "cell_type": "code",
   "execution_count": 41,
   "metadata": {},
   "outputs": [],
   "source": [
    "from gensim.test.utils import common_texts, get_tmpfile\n",
    "from gensim.models import FastText\n",
    "def load_data_w2v(input_file):\n",
    "    data = open(input_file, encoding = \"utf-8\").readlines()    \n",
    "    output = [x.strip(\"\\n\").split(\"\\t\")[0].split(\" \") for x in data]\n",
    "    return output\n",
    "suffix = \"180days_all_shuffled\"\n",
    "prefix = \"/home/t-haohu/IndustryClassifier/Data/\"\n",
    "input_file = \"{}/middle/train_{}.txt\".format(prefix,suffix)\n",
    "path = get_tmpfile(\"word2vec.model\")\n",
    "\n",
    "model = FastText(load_data_w2v(input_file), size=300, window=5, min_count=4, workers=4)\n",
    "model.save(\"fasttext.model\")"
   ]
  },
  {
   "cell_type": "code",
   "execution_count": 27,
   "metadata": {},
   "outputs": [
    {
     "name": "stdout",
     "output_type": "stream",
     "text": [
      "['State', 'of', 'Decay', 'continues', 'to', 'rack', 'up', 'the', 'numbers', 'million', 'players', 'in', 'just', 'two', 'weeks']\n"
     ]
    }
   ],
   "source": [
    "print(load_data_w2v(input_file)[100])"
   ]
  },
  {
   "cell_type": "code",
   "execution_count": 42,
   "metadata": {
    "scrolled": true
   },
   "outputs": [
    {
     "name": "stderr",
     "output_type": "stream",
     "text": [
      "/home/t-haohu/anaconda3/lib/python3.6/site-packages/gensim/matutils.py:737: FutureWarning: Conversion of the second argument of issubdtype from `int` to `np.signedinteger` is deprecated. In future, it will be treated as `np.int64 == np.dtype(int).type`.\n",
      "  if np.issubdtype(vec.dtype, np.int):\n"
     ]
    },
    {
     "data": {
      "text/plain": [
       "[('Note', 0.8528305292129517),\n",
       " ('Quote', 0.7799232602119446),\n",
       " ('Quijote', 0.7485279440879822),\n",
       " ('Tote', 0.7378554940223694),\n",
       " ('Notepad', 0.7352802157402039),\n",
       " ('EverQuote', 0.7297162413597107),\n",
       " ('Bote', 0.7219550609588623),\n",
       " ('Evernote', 0.7191503047943115),\n",
       " ('Symbiote', 0.7147335410118103),\n",
       " ('Remote', 0.7130143642425537)]"
      ]
     },
     "execution_count": 42,
     "metadata": {},
     "output_type": "execute_result"
    }
   ],
   "source": [
    "model.wv.most_similar(\"OneNote\")"
   ]
  },
  {
   "cell_type": "code",
   "execution_count": null,
   "metadata": {},
   "outputs": [],
   "source": []
  }
 ],
 "metadata": {
  "kernelspec": {
   "display_name": "Python 3",
   "language": "python",
   "name": "python3"
  },
  "language_info": {
   "codemirror_mode": {
    "name": "ipython",
    "version": 3
   },
   "file_extension": ".py",
   "mimetype": "text/x-python",
   "name": "python",
   "nbconvert_exporter": "python",
   "pygments_lexer": "ipython3",
   "version": "3.6.5"
  }
 },
 "nbformat": 4,
 "nbformat_minor": 2
}
